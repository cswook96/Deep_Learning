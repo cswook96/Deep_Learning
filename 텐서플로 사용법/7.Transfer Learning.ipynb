{
  "nbformat": 4,
  "nbformat_minor": 0,
  "metadata": {
    "colab": {
      "name": "7.Transfer Learning.ipynb",
      "provenance": [],
      "collapsed_sections": []
    },
    "kernelspec": {
      "name": "python3",
      "display_name": "Python 3"
    },
    "language_info": {
      "name": "python"
    },
    "accelerator": "GPU"
  },
  "cells": [
    {
      "cell_type": "code",
      "metadata": {
        "id": "y0HGn3B46tBy"
      },
      "source": [
        "# 모듈 임포트\n",
        "import tensorflow as tf\n",
        "import tensorflow_datasets as tfds\n",
        "import numpy as np"
      ],
      "execution_count": null,
      "outputs": []
    },
    {
      "cell_type": "markdown",
      "metadata": {
        "id": "zS5qNteX_l7y"
      },
      "source": [
        "## 데이터셋 준비"
      ]
    },
    {
      "cell_type": "code",
      "metadata": {
        "id": "7fxuR0RU_pBu"
      },
      "source": [
        "train_datasets = tfds.load('cassava',split='train')\n",
        "valid_datasets = tfds.load('cassava',split='validation')\n",
        "test_datasets = tfds.load('cassava',split='test')\n",
        "\n",
        "def preprocessing(data):\n",
        "    image = tf.cast(data['image'],dtype=tf.float32)/255.0\n",
        "    image = tf.image.resize(image,size=(224,224))\n",
        "    label = data['label']\n",
        "    return image,label\n",
        "\n",
        "train_data = train_datasets.map(preprocessing).shuffle(1000).batch(128)\n",
        "valid_data = valid_datasets.map(preprocessing).batch(32)\n",
        "test_data = test_datasets.map(preprocessing).batch(32)"
      ],
      "execution_count": null,
      "outputs": []
    },
    {
      "cell_type": "markdown",
      "metadata": {
        "id": "Uj3dP0vbhkN_"
      },
      "source": [
        "### Transfer Layer 구현"
      ]
    },
    {
      "cell_type": "code",
      "metadata": {
        "id": "wizsXJTLIUYb"
      },
      "source": [
        "\n",
        "class Transfer(tf.keras.models.Model):\n",
        "    def __init__(self):\n",
        "        super(Transfer,self).__init__()\n",
        "        self.transfer_model = tf.keras.applications.VGG16(weights = 'imagenet',         # 이미지 분류에 대한 가중치\n",
        "                                                          include_top = False,          #  fully connected layer 제외\n",
        "                                                          input_shape = (224,224,3))    # input shape 정의\n",
        "        self.transfer_model.trainable = False # 기존 VGG16 가중치 고정\n",
        "        \n",
        "    \n",
        "    def call(self,input_):\n",
        "        x = self.transfer_model(input_)\n",
        "        return x"
      ],
      "execution_count": null,
      "outputs": []
    },
    {
      "cell_type": "markdown",
      "metadata": {
        "id": "SC-an_wUhqBy"
      },
      "source": [
        "### 모델 정의"
      ]
    },
    {
      "cell_type": "code",
      "metadata": {
        "id": "NfHon7r6I_OE"
      },
      "source": [
        "class Mymodel(tf.keras.models.Model):\n",
        "    def __init__(self):\n",
        "        super(Mymodel,self).__init__()\n",
        "        self.vgg16 = Transfer()\n",
        "        self.flatten = tf.keras.layers.Flatten()\n",
        "        self.Dense = tf.keras.layers.Dense(128,activation='relu')\n",
        "        self.output_ = tf.keras.layers.Dense(5,activation='softmax')\n",
        "\n",
        "    def call(self,input_):\n",
        "        x = self.vgg16(input_)\n",
        "        x = self.flatten(x)\n",
        "        x = self.Dense(x)\n",
        "        x = self.output_(x)\n",
        "        return x"
      ],
      "execution_count": null,
      "outputs": []
    },
    {
      "cell_type": "code",
      "metadata": {
        "colab": {
          "base_uri": "https://localhost:8080/"
        },
        "id": "EB5MviDhdet0",
        "outputId": "5b2de9c9-773c-4c32-d378-fb214ddb7c63"
      },
      "source": [
        "model = Mymodel()\n",
        "\n",
        "input_ = tf.keras.layers.Input(shape=(224,224,3))\n",
        "model(input_)\n",
        "\n",
        "model.summary()"
      ],
      "execution_count": null,
      "outputs": [
        {
          "output_type": "stream",
          "text": [
            "Model: \"mymodel\"\n",
            "_________________________________________________________________\n",
            "Layer (type)                 Output Shape              Param #   \n",
            "=================================================================\n",
            "transfer (Transfer)          multiple                  14714688  \n",
            "_________________________________________________________________\n",
            "flatten (Flatten)            multiple                  0         \n",
            "_________________________________________________________________\n",
            "dense (Dense)                multiple                  3211392   \n",
            "_________________________________________________________________\n",
            "dense_1 (Dense)              multiple                  645       \n",
            "=================================================================\n",
            "Total params: 17,926,725\n",
            "Trainable params: 3,212,037\n",
            "Non-trainable params: 14,714,688\n",
            "_________________________________________________________________\n"
          ],
          "name": "stdout"
        }
      ]
    },
    {
      "cell_type": "markdown",
      "metadata": {
        "id": "600AU9kRJCQo"
      },
      "source": [
        "## 모델 컴파일,체크포인트,학습"
      ]
    },
    {
      "cell_type": "code",
      "metadata": {
        "id": "YPwAORHSJU9-"
      },
      "source": [
        "# 컴파일\n",
        "optimizer = tf.keras.optimizers.Adam(lr=0.001)\n",
        "model.compile(optimizer=optimizer,loss='sparse_categorical_crossentropy',metrics=['acc'])"
      ],
      "execution_count": null,
      "outputs": []
    },
    {
      "cell_type": "code",
      "metadata": {
        "id": "gyks37W0JeKw"
      },
      "source": [
        "# 체크 포인트\n",
        "checkpoint_path = 'my_checkpoint.ckpt'\n",
        "checkpoint = tf.keras.callbacks.ModelCheckpoint(filepath=checkpoint_path,\n",
        "                                                save_weights_only = True,\n",
        "                                                save_best_only = True,\n",
        "                                                monitor = 'val_loss',\n",
        "                                                verbose = 1)"
      ],
      "execution_count": null,
      "outputs": []
    },
    {
      "cell_type": "code",
      "metadata": {
        "colab": {
          "base_uri": "https://localhost:8080/"
        },
        "id": "PUFDxPaxJlSu",
        "outputId": "6ab207bb-8cb7-4179-dc35-3f461a4253da"
      },
      "source": [
        "#학습\n",
        "model.fit(train_data,\n",
        "          validation_data=(valid_data),\n",
        "          epochs=10,\n",
        "          callbacks = [checkpoint])"
      ],
      "execution_count": null,
      "outputs": [
        {
          "output_type": "stream",
          "text": [
            "Epoch 1/10\n",
            "45/45 [==============================] - 130s 2s/step - loss: 2.7820 - acc: 0.4393 - val_loss: 0.8774 - val_acc: 0.6617\n",
            "\n",
            "Epoch 00001: val_loss improved from inf to 0.87744, saving model to my_checkpoint.ckpt\n",
            "Epoch 2/10\n",
            "45/45 [==============================] - 78s 2s/step - loss: 0.8178 - acc: 0.6979 - val_loss: 0.8396 - val_acc: 0.6787\n",
            "\n",
            "Epoch 00002: val_loss improved from 0.87744 to 0.83956, saving model to my_checkpoint.ckpt\n",
            "Epoch 3/10\n",
            "45/45 [==============================] - 78s 2s/step - loss: 0.6813 - acc: 0.7549 - val_loss: 0.7714 - val_acc: 0.7094\n",
            "\n",
            "Epoch 00003: val_loss improved from 0.83956 to 0.77140, saving model to my_checkpoint.ckpt\n",
            "Epoch 4/10\n",
            "45/45 [==============================] - 77s 2s/step - loss: 0.5691 - acc: 0.8028 - val_loss: 0.7724 - val_acc: 0.7110\n",
            "\n",
            "Epoch 00004: val_loss did not improve from 0.77140\n",
            "Epoch 5/10\n",
            "45/45 [==============================] - 77s 2s/step - loss: 0.4698 - acc: 0.8527 - val_loss: 0.8262 - val_acc: 0.6871\n",
            "\n",
            "Epoch 00005: val_loss did not improve from 0.77140\n",
            "Epoch 6/10\n",
            "45/45 [==============================] - 77s 2s/step - loss: 0.4080 - acc: 0.8695 - val_loss: 0.7610 - val_acc: 0.7226\n",
            "\n",
            "Epoch 00006: val_loss improved from 0.77140 to 0.76101, saving model to my_checkpoint.ckpt\n",
            "Epoch 7/10\n",
            "45/45 [==============================] - 78s 2s/step - loss: 0.3259 - acc: 0.9103 - val_loss: 0.7697 - val_acc: 0.7290\n",
            "\n",
            "Epoch 00007: val_loss did not improve from 0.76101\n",
            "Epoch 8/10\n",
            "45/45 [==============================] - 78s 2s/step - loss: 0.2559 - acc: 0.9441 - val_loss: 0.7851 - val_acc: 0.7200\n",
            "\n",
            "Epoch 00008: val_loss did not improve from 0.76101\n",
            "Epoch 9/10\n",
            "45/45 [==============================] - 78s 2s/step - loss: 0.2124 - acc: 0.9556 - val_loss: 0.7997 - val_acc: 0.7157\n",
            "\n",
            "Epoch 00009: val_loss did not improve from 0.76101\n",
            "Epoch 10/10\n",
            "45/45 [==============================] - 78s 2s/step - loss: 0.1672 - acc: 0.9739 - val_loss: 0.8504 - val_acc: 0.7215\n",
            "\n",
            "Epoch 00010: val_loss did not improve from 0.76101\n"
          ],
          "name": "stdout"
        },
        {
          "output_type": "execute_result",
          "data": {
            "text/plain": [
              "<tensorflow.python.keras.callbacks.History at 0x7f62201dff50>"
            ]
          },
          "metadata": {
            "tags": []
          },
          "execution_count": 8
        }
      ]
    },
    {
      "cell_type": "code",
      "metadata": {
        "colab": {
          "base_uri": "https://localhost:8080/"
        },
        "id": "4OCEBVljVR4Q",
        "outputId": "3475305d-76f2-46ea-aed7-fcab91d4004c"
      },
      "source": [
        "# 가중치 적용\n",
        "model.load_weights(checkpoint_path)"
      ],
      "execution_count": null,
      "outputs": [
        {
          "output_type": "execute_result",
          "data": {
            "text/plain": [
              "<tensorflow.python.training.tracking.util.CheckpointLoadStatus at 0x7f615a7ce8d0>"
            ]
          },
          "metadata": {
            "tags": []
          },
          "execution_count": 9
        }
      ]
    },
    {
      "cell_type": "code",
      "metadata": {
        "colab": {
          "base_uri": "https://localhost:8080/"
        },
        "id": "XJ6uotQHVdH1",
        "outputId": "0324bc31-fff8-48d5-dec9-6c9e9eb2dc09"
      },
      "source": [
        "# 테스트\n",
        "model.evaluate(test_data)"
      ],
      "execution_count": null,
      "outputs": [
        {
          "output_type": "stream",
          "text": [
            "59/59 [==============================] - 23s 395ms/step - loss: 0.7550 - acc: 0.7279\n"
          ],
          "name": "stdout"
        },
        {
          "output_type": "execute_result",
          "data": {
            "text/plain": [
              "[0.7549511790275574, 0.7278514504432678]"
            ]
          },
          "metadata": {
            "tags": []
          },
          "execution_count": 10
        }
      ]
    }
  ]
}