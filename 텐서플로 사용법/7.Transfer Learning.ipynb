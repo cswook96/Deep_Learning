{
  "nbformat": 4,
  "nbformat_minor": 0,
  "metadata": {
    "colab": {
      "name": "7.Transfer Learning.ipynb",
      "provenance": [],
      "collapsed_sections": []
    },
    "kernelspec": {
      "name": "python3",
      "display_name": "Python 3"
    },
    "language_info": {
      "name": "python"
    },
    "accelerator": "GPU"
  },
  "cells": [
    {
      "cell_type": "code",
      "metadata": {
        "id": "y0HGn3B46tBy"
      },
      "source": [
        "# 모듈 임포트\n",
        "import tensorflow as tf\n",
        "import tensorflow_datasets as tfds\n",
        "import numpy as np"
      ],
      "execution_count": 1,
      "outputs": []
    },
    {
      "cell_type": "markdown",
      "metadata": {
        "id": "zS5qNteX_l7y"
      },
      "source": [
        "## 데이터셋 준비"
      ]
    },
    {
      "cell_type": "code",
      "metadata": {
        "id": "7fxuR0RU_pBu"
      },
      "source": [
        "train_datasets = tfds.load('cassava',split='train')\n",
        "valid_datasets = tfds.load('cassava',split='validation')\n",
        "test_datasets = tfds.load('cassava',split='test')\n",
        "\n",
        "def preprocessing(data):\n",
        "    image = tf.cast(data['image'],dtype=tf.float32)/255.0\n",
        "    image = tf.image.resize(image,size=(224,224))\n",
        "    label = data['label']\n",
        "    return image,label\n",
        "\n",
        "train_data = train_datasets.map(preprocessing).shuffle(1000).batch(128)\n",
        "valid_data = valid_datasets.map(preprocessing).batch(32)\n",
        "test_data = test_datasets.map(preprocessing).batch(32)"
      ],
      "execution_count": 2,
      "outputs": []
    },
    {
      "cell_type": "markdown",
      "metadata": {
        "id": "ns1bIn3vEOJs"
      },
      "source": [
        "## 전이 모델"
      ]
    },
    {
      "cell_type": "markdown",
      "metadata": {
        "id": "QkZxRBMNIRuA"
      },
      "source": [
        "## 모델링"
      ]
    },
    {
      "cell_type": "markdown",
      "metadata": {
        "id": "Uj3dP0vbhkN_"
      },
      "source": [
        "### Transfer Layer 구현"
      ]
    },
    {
      "cell_type": "code",
      "metadata": {
        "id": "wizsXJTLIUYb"
      },
      "source": [
        "\n",
        "class Transfer(tf.keras.models.Model):\n",
        "    def __init__(self):\n",
        "        super(Transfer,self).__init__()\n",
        "        self.transfer_model = tf.keras.applications.VGG16(weights = 'imagenet',         # 이미지 분류에 대한 가중치\n",
        "                                                          include_top = False,          #  fully connected layer 제외\n",
        "                                                          input_shape = (224,224,3))    # input shape 정의\n",
        "        self.transfer_model.trainable = False # 기존 VGG16 가중치 고정\n",
        "        \n",
        "    \n",
        "    def call(self,input_):\n",
        "        x = self.transfer_model(input_)\n",
        "        return x"
      ],
      "execution_count": 3,
      "outputs": []
    },
    {
      "cell_type": "markdown",
      "metadata": {
        "id": "SC-an_wUhqBy"
      },
      "source": [
        "### 모델 정의"
      ]
    },
    {
      "cell_type": "code",
      "metadata": {
        "id": "NfHon7r6I_OE"
      },
      "source": [
        "class Mymodel(tf.keras.models.Model):\n",
        "    def __init__(self):\n",
        "        super(Mymodel,self).__init__()\n",
        "        self.vgg16 = Transfer()\n",
        "        self.flatten = tf.keras.layers.Flatten()\n",
        "        self.Dense = tf.keras.layers.Dense(32,activation='relu')\n",
        "        self.output_ = tf.keras.layers.Dense(32,activation='softmax')\n",
        "\n",
        "    def call(self,input_):\n",
        "        x = self.vgg16(input_)\n",
        "        x = self.flatten(x)\n",
        "        x = self.Dense(x)\n",
        "        x = self.output_(x)\n",
        "        return x"
      ],
      "execution_count": 4,
      "outputs": []
    },
    {
      "cell_type": "code",
      "metadata": {
        "colab": {
          "base_uri": "https://localhost:8080/"
        },
        "id": "EB5MviDhdet0",
        "outputId": "b100fa67-4463-4d58-e0fb-c069afd6736f"
      },
      "source": [
        "model = Mymodel()\n",
        "\n",
        "input_ = tf.keras.layers.Input(shape=(224,224,3))\n",
        "model(input_)\n",
        "\n",
        "model.summary()"
      ],
      "execution_count": 5,
      "outputs": [
        {
          "output_type": "stream",
          "text": [
            "Model: \"mymodel\"\n",
            "_________________________________________________________________\n",
            "Layer (type)                 Output Shape              Param #   \n",
            "=================================================================\n",
            "transfer (Transfer)          multiple                  14714688  \n",
            "_________________________________________________________________\n",
            "flatten (Flatten)            multiple                  0         \n",
            "_________________________________________________________________\n",
            "dense (Dense)                multiple                  802848    \n",
            "_________________________________________________________________\n",
            "dense_1 (Dense)              multiple                  1056      \n",
            "=================================================================\n",
            "Total params: 15,518,592\n",
            "Trainable params: 803,904\n",
            "Non-trainable params: 14,714,688\n",
            "_________________________________________________________________\n"
          ],
          "name": "stdout"
        }
      ]
    },
    {
      "cell_type": "markdown",
      "metadata": {
        "id": "600AU9kRJCQo"
      },
      "source": [
        "## 모델 컴파일,체크포인트,학습"
      ]
    },
    {
      "cell_type": "code",
      "metadata": {
        "id": "YPwAORHSJU9-"
      },
      "source": [
        "# 컴파일\n",
        "optimizer = tf.keras.optimizers.Adam(lr=0.001)\n",
        "model.compile(optimizer=optimizer,loss='sparse_categorical_crossentropy',metrics=['acc'])"
      ],
      "execution_count": 6,
      "outputs": []
    },
    {
      "cell_type": "code",
      "metadata": {
        "id": "gyks37W0JeKw"
      },
      "source": [
        "# 체크 포인트\n",
        "checkpoint_path = 'my_checkpoint.ckpt'\n",
        "checkpoint = tf.keras.callbacks.ModelCheckpoint(filepath=checkpoint_path,\n",
        "                                                save_weights_only = True,\n",
        "                                                save_best_only = True,\n",
        "                                                monitor = 'val_loss',\n",
        "                                                verbose = 1)"
      ],
      "execution_count": 7,
      "outputs": []
    },
    {
      "cell_type": "code",
      "metadata": {
        "colab": {
          "base_uri": "https://localhost:8080/"
        },
        "id": "PUFDxPaxJlSu",
        "outputId": "e966f1c8-8478-4a49-babe-d38f7b3fce37"
      },
      "source": [
        "#학습\n",
        "model.fit(train_data,\n",
        "          validation_data=(valid_data),\n",
        "          epochs=10,\n",
        "          callbacks = [checkpoint])"
      ],
      "execution_count": 8,
      "outputs": [
        {
          "output_type": "stream",
          "text": [
            "Epoch 1/10\n",
            "45/45 [==============================] - 133s 2s/step - loss: 2.0747 - acc: 0.4616 - val_loss: 0.9177 - val_acc: 0.6585\n",
            "\n",
            "Epoch 00001: val_loss improved from inf to 0.91774, saving model to my_checkpoint.ckpt\n",
            "Epoch 2/10\n",
            "45/45 [==============================] - 79s 2s/step - loss: 0.8227 - acc: 0.7006 - val_loss: 0.8215 - val_acc: 0.6977\n",
            "\n",
            "Epoch 00002: val_loss improved from 0.91774 to 0.82153, saving model to my_checkpoint.ckpt\n",
            "Epoch 3/10\n",
            "45/45 [==============================] - 78s 2s/step - loss: 0.6909 - acc: 0.7531 - val_loss: 0.7900 - val_acc: 0.7046\n",
            "\n",
            "Epoch 00003: val_loss improved from 0.82153 to 0.79000, saving model to my_checkpoint.ckpt\n",
            "Epoch 4/10\n",
            "45/45 [==============================] - 78s 2s/step - loss: 0.5851 - acc: 0.7942 - val_loss: 0.7943 - val_acc: 0.7083\n",
            "\n",
            "Epoch 00004: val_loss did not improve from 0.79000\n",
            "Epoch 5/10\n",
            "45/45 [==============================] - 78s 2s/step - loss: 0.5190 - acc: 0.8311 - val_loss: 0.8343 - val_acc: 0.6967\n",
            "\n",
            "Epoch 00005: val_loss did not improve from 0.79000\n",
            "Epoch 6/10\n",
            "45/45 [==============================] - 78s 2s/step - loss: 0.4567 - acc: 0.8487 - val_loss: 0.7918 - val_acc: 0.7163\n",
            "\n",
            "Epoch 00006: val_loss did not improve from 0.79000\n",
            "Epoch 7/10\n",
            "45/45 [==============================] - 79s 2s/step - loss: 0.3875 - acc: 0.8931 - val_loss: 0.7896 - val_acc: 0.7168\n",
            "\n",
            "Epoch 00007: val_loss improved from 0.79000 to 0.78960, saving model to my_checkpoint.ckpt\n",
            "Epoch 8/10\n",
            "45/45 [==============================] - 78s 2s/step - loss: 0.3264 - acc: 0.9147 - val_loss: 0.8643 - val_acc: 0.7035\n",
            "\n",
            "Epoch 00008: val_loss did not improve from 0.78960\n",
            "Epoch 9/10\n",
            "45/45 [==============================] - 78s 2s/step - loss: 0.2906 - acc: 0.9213 - val_loss: 0.7875 - val_acc: 0.7258\n",
            "\n",
            "Epoch 00009: val_loss improved from 0.78960 to 0.78746, saving model to my_checkpoint.ckpt\n",
            "Epoch 10/10\n",
            "45/45 [==============================] - 78s 2s/step - loss: 0.2270 - acc: 0.9510 - val_loss: 0.8107 - val_acc: 0.7178\n",
            "\n",
            "Epoch 00010: val_loss did not improve from 0.78746\n"
          ],
          "name": "stdout"
        },
        {
          "output_type": "execute_result",
          "data": {
            "text/plain": [
              "<tensorflow.python.keras.callbacks.History at 0x7f6420219310>"
            ]
          },
          "metadata": {
            "tags": []
          },
          "execution_count": 8
        }
      ]
    },
    {
      "cell_type": "code",
      "metadata": {
        "colab": {
          "base_uri": "https://localhost:8080/"
        },
        "id": "4OCEBVljVR4Q",
        "outputId": "81cbd9c9-3d3f-42e5-b9e9-4dd8e14fe6a8"
      },
      "source": [
        "# 가중치 적용\n",
        "model.load_weights(checkpoint_path)"
      ],
      "execution_count": 9,
      "outputs": [
        {
          "output_type": "execute_result",
          "data": {
            "text/plain": [
              "<tensorflow.python.training.tracking.util.CheckpointLoadStatus at 0x7f635ef3ff50>"
            ]
          },
          "metadata": {
            "tags": []
          },
          "execution_count": 9
        }
      ]
    },
    {
      "cell_type": "code",
      "metadata": {
        "colab": {
          "base_uri": "https://localhost:8080/"
        },
        "id": "XJ6uotQHVdH1",
        "outputId": "ef101601-4743-4e06-c7c8-b0775d196845"
      },
      "source": [
        "# 테스트\n",
        "model.evaluate(test_data)"
      ],
      "execution_count": 10,
      "outputs": [
        {
          "output_type": "stream",
          "text": [
            "59/59 [==============================] - 23s 395ms/step - loss: 0.7886 - acc: 0.7273\n"
          ],
          "name": "stdout"
        },
        {
          "output_type": "execute_result",
          "data": {
            "text/plain": [
              "[0.7886297702789307, 0.7273209691047668]"
            ]
          },
          "metadata": {
            "tags": []
          },
          "execution_count": 10
        }
      ]
    }
  ]
}