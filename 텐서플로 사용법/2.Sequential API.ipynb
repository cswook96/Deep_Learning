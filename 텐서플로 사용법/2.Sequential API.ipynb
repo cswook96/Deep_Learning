{
 "cells": [
  {
   "cell_type": "code",
   "execution_count": 1,
   "id": "b3bb092a",
   "metadata": {},
   "outputs": [],
   "source": [
    "# 모듈 임포트\n",
    "import tensorflow as tf\n",
    "import tensorflow_datasets as tfds"
   ]
  },
  {
   "cell_type": "markdown",
   "id": "3016e4bc",
   "metadata": {},
   "source": [
    "## 데이터(cifar10) 로드,전처리"
   ]
  },
  {
   "cell_type": "code",
   "execution_count": 4,
   "id": "dd81f9d9",
   "metadata": {},
   "outputs": [],
   "source": [
    "train_datasets = tfds.load('cifar10',split='train')\n",
    "valid_datasets = tfds.load('cifar10',split='test')\n",
    "\n",
    "def preprocessing(data):\n",
    "    image = tf.cast(data['image'],dtype=tf.float32)/255.0\n",
    "    label = data['label']\n",
    "    return image,label\n",
    "\n",
    "BATCH_SIZE = 128\n",
    "train_data = train_datasets.map(preprocessing).shuffle(1000).batch(BATCH_SIZE)\n",
    "valid_data = valid_datasets.map(preprocessing).batch(BATCH_SIZE)"
   ]
  },
  {
   "cell_type": "markdown",
   "id": "9ffdc48a",
   "metadata": {},
   "source": [
    "## Sequential API 를 활용한 모델링"
   ]
  },
  {
   "cell_type": "code",
   "execution_count": 7,
   "id": "e022047a",
   "metadata": {},
   "outputs": [],
   "source": [
    "model = tf.keras.models.Sequential([\n",
    "    tf.keras.layers.Conv2D(32,(3,3),padding='same',activation='relu',input_shape=(32,32,3)), # 32x32x32\n",
    "    tf.keras.layers.MaxPool2D(2,2),                                                          # 16x16x32\n",
    "    tf.keras.layers.Conv2D(64,(3,3),padding='same',activation='relu'),                       # 16x16x64\n",
    "    tf.keras.layers.MaxPool2D(2,2),                                                          # 8x8x64\n",
    "    tf.keras.layers.Conv2D(64,(3,3),padding='same',activation='relu'),                       # 8x8x64\n",
    "    tf.keras.layers.MaxPool2D(2,2),                                                          # 4x4x64\n",
    "    tf.keras.layers.Flatten(),\n",
    "    tf.keras.layers.Dense(32,activation='relu'),\n",
    "    tf.keras.layers.Dense(10,activation='softmax')\n",
    "    \n",
    "])"
   ]
  },
  {
   "cell_type": "code",
   "execution_count": 6,
   "id": "462e2286",
   "metadata": {},
   "outputs": [
    {
     "name": "stdout",
     "output_type": "stream",
     "text": [
      "Model: \"sequential\"\n",
      "_________________________________________________________________\n",
      "Layer (type)                 Output Shape              Param #   \n",
      "=================================================================\n",
      "conv2d (Conv2D)              (None, 32, 32, 32)        896       \n",
      "_________________________________________________________________\n",
      "max_pooling2d (MaxPooling2D) (None, 16, 16, 32)        0         \n",
      "_________________________________________________________________\n",
      "conv2d_1 (Conv2D)            (None, 16, 16, 64)        18496     \n",
      "_________________________________________________________________\n",
      "max_pooling2d_1 (MaxPooling2 (None, 8, 8, 64)          0         \n",
      "_________________________________________________________________\n",
      "conv2d_2 (Conv2D)            (None, 8, 8, 64)          36928     \n",
      "_________________________________________________________________\n",
      "max_pooling2d_2 (MaxPooling2 (None, 4, 4, 64)          0         \n",
      "_________________________________________________________________\n",
      "flatten (Flatten)            (None, 1024)              0         \n",
      "_________________________________________________________________\n",
      "dense (Dense)                (None, 32)                32800     \n",
      "_________________________________________________________________\n",
      "dense_1 (Dense)              (None, 10)                330       \n",
      "=================================================================\n",
      "Total params: 89,450\n",
      "Trainable params: 89,450\n",
      "Non-trainable params: 0\n",
      "_________________________________________________________________\n"
     ]
    }
   ],
   "source": [
    "# model summary(요약)\n",
    "model.summary()"
   ]
  },
  {
   "cell_type": "code",
   "execution_count": 8,
   "id": "e644c70e",
   "metadata": {},
   "outputs": [],
   "source": [
    "#model compile\n",
    "model.compile(optimizer='adam',loss='sparse_categorical_crossentropy',metrics=['acc'])"
   ]
  },
  {
   "cell_type": "code",
   "execution_count": 10,
   "id": "607c751d",
   "metadata": {},
   "outputs": [
    {
     "name": "stdout",
     "output_type": "stream",
     "text": [
      "Epoch 1/10\n",
      "391/391 [==============================] - 29s 73ms/step - loss: 1.3004 - acc: 0.5330 - val_loss: 1.2550 - val_acc: 0.5476\n",
      "Epoch 2/10\n",
      "391/391 [==============================] - 27s 69ms/step - loss: 1.1447 - acc: 0.5941 - val_loss: 1.1183 - val_acc: 0.6069\n",
      "Epoch 3/10\n",
      "391/391 [==============================] - 27s 68ms/step - loss: 1.0367 - acc: 0.6376 - val_loss: 1.0300 - val_acc: 0.6392\n",
      "Epoch 4/10\n",
      "391/391 [==============================] - 28s 71ms/step - loss: 0.9580 - acc: 0.6641 - val_loss: 0.9709 - val_acc: 0.6673\n",
      "Epoch 5/10\n",
      "391/391 [==============================] - 29s 75ms/step - loss: 0.8885 - acc: 0.6907 - val_loss: 0.9372 - val_acc: 0.6753\n",
      "Epoch 6/10\n",
      "391/391 [==============================] - 27s 70ms/step - loss: 0.8447 - acc: 0.7054 - val_loss: 0.9297 - val_acc: 0.6803\n",
      "Epoch 7/10\n",
      "391/391 [==============================] - 29s 74ms/step - loss: 0.8060 - acc: 0.7198 - val_loss: 0.8706 - val_acc: 0.7042\n",
      "Epoch 8/10\n",
      "391/391 [==============================] - 27s 68ms/step - loss: 0.7612 - acc: 0.7350 - val_loss: 0.8435 - val_acc: 0.7131\n",
      "Epoch 9/10\n",
      "391/391 [==============================] - 27s 69ms/step - loss: 0.7385 - acc: 0.7428 - val_loss: 0.8785 - val_acc: 0.7041\n",
      "Epoch 10/10\n",
      "391/391 [==============================] - 27s 69ms/step - loss: 0.7092 - acc: 0.7521 - val_loss: 0.8406 - val_acc: 0.7134\n"
     ]
    },
    {
     "data": {
      "text/plain": [
       "<tensorflow.python.keras.callbacks.History at 0x1c940f84640>"
      ]
     },
     "execution_count": 10,
     "metadata": {},
     "output_type": "execute_result"
    }
   ],
   "source": [
    "#model fit( 학습)\n",
    "model.fit(train_data,\n",
    "         validation_data=(valid_data),\n",
    "         epochs = 10)"
   ]
  },
  {
   "cell_type": "code",
   "execution_count": null,
   "id": "1a63417f",
   "metadata": {},
   "outputs": [],
   "source": []
  }
 ],
 "metadata": {
  "kernelspec": {
   "display_name": "Python 3",
   "language": "python",
   "name": "python3"
  },
  "language_info": {
   "codemirror_mode": {
    "name": "ipython",
    "version": 3
   },
   "file_extension": ".py",
   "mimetype": "text/x-python",
   "name": "python",
   "nbconvert_exporter": "python",
   "pygments_lexer": "ipython3",
   "version": "3.8.0"
  }
 },
 "nbformat": 4,
 "nbformat_minor": 5
}
