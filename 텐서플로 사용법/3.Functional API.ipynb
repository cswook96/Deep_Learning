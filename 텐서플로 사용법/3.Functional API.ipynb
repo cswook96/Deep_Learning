{
 "cells": [
  {
   "cell_type": "code",
   "execution_count": 13,
   "id": "ccfe3082",
   "metadata": {},
   "outputs": [],
   "source": [
    "# 모듈 임포트\n",
    "import tensorflow as tf\n",
    "import numpy as np\n",
    "import matplotlib.pyplot as plt"
   ]
  },
  {
   "cell_type": "markdown",
   "id": "be8bad1c",
   "metadata": {},
   "source": [
    "## 데이터셋 로드,전처리(mnist)"
   ]
  },
  {
   "cell_type": "code",
   "execution_count": 2,
   "id": "6a23056b",
   "metadata": {},
   "outputs": [],
   "source": [
    "mnist = tf.keras.datasets.mnist\n",
    "\n",
    "(x_train,y_train),(x_valid,y_valid) = mnist.load_data()"
   ]
  },
  {
   "cell_type": "code",
   "execution_count": 3,
   "id": "808bf316",
   "metadata": {},
   "outputs": [
    {
     "name": "stdout",
     "output_type": "stream",
     "text": [
      "x_train:(60000, 28, 28),y_train:(60000,)\n",
      "x_valid:(10000, 28, 28),y_valid:(10000,)\n"
     ]
    }
   ],
   "source": [
    "#shape 확인\n",
    "print('x_train:{},y_train:{}'.format(x_train.shape,y_train.shape))\n",
    "print('x_valid:{},y_valid:{}'.format(x_valid.shape,y_valid.shape))"
   ]
  },
  {
   "cell_type": "code",
   "execution_count": 4,
   "id": "ea3aac23",
   "metadata": {},
   "outputs": [
    {
     "name": "stdout",
     "output_type": "stream",
     "text": [
      "x_train_min:0,x_train_max:255\n",
      "x_valid_min:0,x_valid_max:255\n"
     ]
    }
   ],
   "source": [
    "#min,max 확인\n",
    "print('x_train_min:{},x_train_max:{}'.format(x_train.min(),x_train.max()))\n",
    "print('x_valid_min:{},x_valid_max:{}'.format(x_valid.min(),x_valid.max()))"
   ]
  },
  {
   "cell_type": "code",
   "execution_count": 5,
   "id": "93c4205a",
   "metadata": {},
   "outputs": [],
   "source": [
    "#전처리(차원 추가,정규화)\n",
    "x_train=tf.cast(x_train[...,tf.newaxis],dtype=tf.float32)/255.0\n",
    "x_valid=tf.cast(x_valid[...,tf.newaxis],dtype=tf.float32)/255.0"
   ]
  },
  {
   "cell_type": "code",
   "execution_count": 6,
   "id": "9e7b09d8",
   "metadata": {},
   "outputs": [
    {
     "name": "stdout",
     "output_type": "stream",
     "text": [
      "x_train:(60000, 28, 28, 1),y_train:(60000,)\n",
      "x_valid:(10000, 28, 28, 1),y_valid:(10000,)\n"
     ]
    }
   ],
   "source": [
    "#전처리후 shape 확인\n",
    "print('x_train:{},y_train:{}'.format(x_train.shape,y_train.shape))\n",
    "print('x_valid:{},y_valid:{}'.format(x_valid.shape,y_valid.shape))"
   ]
  },
  {
   "cell_type": "code",
   "execution_count": 7,
   "id": "c930930b",
   "metadata": {},
   "outputs": [
    {
     "name": "stdout",
     "output_type": "stream",
     "text": [
      "x_train_min:0.0,x_train_max:1.0\n",
      "x_valid_min:0.0,x_valid_max:1.0\n"
     ]
    }
   ],
   "source": [
    "#전처리후 min,max 확인\n",
    "print('x_train_min:{},x_train_max:{}'.format(np.min(x_train),np.max(x_train)))\n",
    "print('x_valid_min:{},x_valid_max:{}'.format(np.min(x_valid),np.max(x_valid)))"
   ]
  },
  {
   "cell_type": "markdown",
   "id": "7a6178b5",
   "metadata": {},
   "source": [
    "## Functional API로 모델링"
   ]
  },
  {
   "cell_type": "code",
   "execution_count": 8,
   "id": "2028d021",
   "metadata": {},
   "outputs": [],
   "source": [
    "input_ = tf.keras.layers.Input(shape = (x_train[0].shape))\n",
    "x = tf.keras.layers.Conv2D(32,(3,3),padding='same',activation='relu')(input_)\n",
    "x = tf.keras.layers.MaxPool2D(2,2)(x)\n",
    "x = tf.keras.layers.Conv2D(64,(3,3),padding='same',activation='relu')(x)\n",
    "x = tf.keras.layers.MaxPool2D(2,2)(x)\n",
    "x = tf.keras.layers.Conv2D(64,(3,3),padding='same',activation='relu')(x)\n",
    "x = tf.keras.layers.MaxPool2D(2,2)(x)\n",
    "x = tf.keras.layers.Flatten()(x)\n",
    "x = tf.keras.layers.Dense(32,activation='relu')(x)\n",
    "x = tf.keras.layers.Dense(10,activation='softmax')(x)"
   ]
  },
  {
   "cell_type": "code",
   "execution_count": 9,
   "id": "4068c5c8",
   "metadata": {},
   "outputs": [],
   "source": [
    "model = tf.keras.models.Model(input_,x)"
   ]
  },
  {
   "cell_type": "code",
   "execution_count": 10,
   "id": "bd1110d7",
   "metadata": {
    "scrolled": true
   },
   "outputs": [
    {
     "name": "stdout",
     "output_type": "stream",
     "text": [
      "Model: \"model\"\n",
      "_________________________________________________________________\n",
      "Layer (type)                 Output Shape              Param #   \n",
      "=================================================================\n",
      "input_1 (InputLayer)         [(None, 28, 28, 1)]       0         \n",
      "_________________________________________________________________\n",
      "conv2d (Conv2D)              (None, 28, 28, 32)        320       \n",
      "_________________________________________________________________\n",
      "max_pooling2d (MaxPooling2D) (None, 14, 14, 32)        0         \n",
      "_________________________________________________________________\n",
      "conv2d_1 (Conv2D)            (None, 14, 14, 64)        18496     \n",
      "_________________________________________________________________\n",
      "max_pooling2d_1 (MaxPooling2 (None, 7, 7, 64)          0         \n",
      "_________________________________________________________________\n",
      "conv2d_2 (Conv2D)            (None, 7, 7, 64)          36928     \n",
      "_________________________________________________________________\n",
      "max_pooling2d_2 (MaxPooling2 (None, 3, 3, 64)          0         \n",
      "_________________________________________________________________\n",
      "flatten (Flatten)            (None, 576)               0         \n",
      "_________________________________________________________________\n",
      "dense (Dense)                (None, 32)                18464     \n",
      "_________________________________________________________________\n",
      "dense_1 (Dense)              (None, 10)                330       \n",
      "=================================================================\n",
      "Total params: 74,538\n",
      "Trainable params: 74,538\n",
      "Non-trainable params: 0\n",
      "_________________________________________________________________\n"
     ]
    }
   ],
   "source": [
    "#model summary\n",
    "model.summary()"
   ]
  },
  {
   "cell_type": "code",
   "execution_count": 11,
   "id": "8e5a5180",
   "metadata": {},
   "outputs": [],
   "source": [
    "#model compile\n",
    "model.compile(optimizer='adam',loss='sparse_categorical_crossentropy',metrics=['acc'])"
   ]
  },
  {
   "cell_type": "code",
   "execution_count": 12,
   "id": "7f5ee375",
   "metadata": {},
   "outputs": [
    {
     "name": "stdout",
     "output_type": "stream",
     "text": [
      "Epoch 1/10\n",
      "469/469 [==============================] - 21s 44ms/step - loss: 0.6247 - acc: 0.8088 - val_loss: 0.0686 - val_acc: 0.9785\n",
      "Epoch 2/10\n",
      "469/469 [==============================] - 20s 43ms/step - loss: 0.0693 - acc: 0.9777 - val_loss: 0.0605 - val_acc: 0.9808\n",
      "Epoch 3/10\n",
      "469/469 [==============================] - 19s 40ms/step - loss: 0.0453 - acc: 0.9855 - val_loss: 0.0544 - val_acc: 0.9825\n",
      "Epoch 4/10\n",
      "469/469 [==============================] - 19s 40ms/step - loss: 0.0345 - acc: 0.9894 - val_loss: 0.0415 - val_acc: 0.9872\n",
      "Epoch 5/10\n",
      "469/469 [==============================] - 19s 41ms/step - loss: 0.0265 - acc: 0.9919 - val_loss: 0.0297 - val_acc: 0.9891\n",
      "Epoch 6/10\n",
      "469/469 [==============================] - 20s 42ms/step - loss: 0.0220 - acc: 0.9929 - val_loss: 0.0290 - val_acc: 0.9905\n",
      "Epoch 7/10\n",
      "469/469 [==============================] - 20s 43ms/step - loss: 0.0177 - acc: 0.9945 - val_loss: 0.0365 - val_acc: 0.9880\n",
      "Epoch 8/10\n",
      "469/469 [==============================] - 20s 42ms/step - loss: 0.0149 - acc: 0.9951 - val_loss: 0.0329 - val_acc: 0.9900\n",
      "Epoch 9/10\n",
      "469/469 [==============================] - 20s 42ms/step - loss: 0.0126 - acc: 0.9958 - val_loss: 0.0279 - val_acc: 0.9909\n",
      "Epoch 10/10\n",
      "469/469 [==============================] - 20s 42ms/step - loss: 0.0117 - acc: 0.9962 - val_loss: 0.0267 - val_acc: 0.9911\n"
     ]
    },
    {
     "data": {
      "text/plain": [
       "<tensorflow.python.keras.callbacks.History at 0x2402b935880>"
      ]
     },
     "execution_count": 12,
     "metadata": {},
     "output_type": "execute_result"
    }
   ],
   "source": [
    "#model fit\n",
    "model.fit(x_train,y_train,\n",
    "         validation_data=(x_valid,y_valid),\n",
    "         batch_size=128,\n",
    "         epochs=10)"
   ]
  },
  {
   "cell_type": "markdown",
   "id": "c7aeab86",
   "metadata": {},
   "source": [
    "## 예측,시각화"
   ]
  },
  {
   "cell_type": "code",
   "execution_count": 19,
   "id": "772a5a19",
   "metadata": {},
   "outputs": [
    {
     "data": {
      "text/plain": [
       "array([7, 2, 1, 0, 4, 1, 4, 9, 5, 9], dtype=int64)"
      ]
     },
     "execution_count": 19,
     "metadata": {},
     "output_type": "execute_result"
    }
   ],
   "source": [
    "#예측\n",
    "pred = model.predict(x_valid[:10])\n",
    "np.argmax(pred,axis=-1)"
   ]
  },
  {
   "cell_type": "code",
   "execution_count": 42,
   "id": "00121b78",
   "metadata": {},
   "outputs": [
    {
     "data": {
      "image/png": "[encoded data removed]",
      "text/plain": [
       "<Figure size 432x288 with 1 Axes>"
      ]
     },
     "metadata": {
      "needs_background": "light"
     },
     "output_type": "display_data"
    }
   ],
   "source": [
    "#시각화\n",
    "idx = 0\n",
    "plt.title('{} index data: {}'.format(idx,y_valid[idx]))\n",
    "plt.imshow(np.array(x_valid[idx,:,:,0]),'gray')\n",
    "plt.show()"
   ]
  }
 ],
 "metadata": {
  "kernelspec": {
   "display_name": "Python 3",
   "language": "python",
   "name": "python3"
  },
  "language_info": {
   "codemirror_mode": {
    "name": "ipython",
    "version": 3
   },
   "file_extension": ".py",
   "mimetype": "text/x-python",
   "name": "python",
   "nbconvert_exporter": "python",
   "pygments_lexer": "ipython3",
   "version": "3.8.0"
  }
 },
 "nbformat": 4,
 "nbformat_minor": 5
}
