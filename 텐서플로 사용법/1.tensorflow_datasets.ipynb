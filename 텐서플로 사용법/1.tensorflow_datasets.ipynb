{
 "cells": [
  {
   "cell_type": "markdown",
   "metadata": {},
   "source": [
    "## [tensorflow datasets 공식 도큐먼트](https://www.tensorflow.org/datasets)"
   ]
  },
  {
   "cell_type": "markdown",
   "metadata": {},
   "source": [
    "## cifar10 데이터 불러오기,전처리"
   ]
  },
  {
   "cell_type": "code",
   "execution_count": 1,
   "metadata": {},
   "outputs": [],
   "source": [
    "# 모듈 임포트\n",
    "import tensorflow as tf\n",
    "import tensorflow_datasets as tfds"
   ]
  },
  {
   "cell_type": "code",
   "execution_count": 2,
   "metadata": {},
   "outputs": [],
   "source": [
    "#데이터셋 로드\n",
    "train_datasets = tfds.load('cifar10',split='train')\n",
    "valid_datasets = tfds.load('cifar10',split='test')"
   ]
  },
  {
   "cell_type": "code",
   "execution_count": 3,
   "metadata": {},
   "outputs": [
    {
     "name": "stdout",
     "output_type": "stream",
     "text": [
      "(32, 32, 3)\n",
      "tf.Tensor(7, shape=(), dtype=int64)\n",
      "(32, 32, 3)\n",
      "tf.Tensor(8, shape=(), dtype=int64)\n",
      "(32, 32, 3)\n",
      "tf.Tensor(4, shape=(), dtype=int64)\n"
     ]
    }
   ],
   "source": [
    "#데이터 확인하기\n",
    "for data in train_datasets.take(3):\n",
    "    image = data['image']\n",
    "    label = data['label']\n",
    "    print(image.shape)\n",
    "    print(label)"
   ]
  },
  {
   "cell_type": "code",
   "execution_count": 4,
   "metadata": {},
   "outputs": [],
   "source": [
    "#데이터 전처리\n",
    "def preprocessing(data):\n",
    "    image = tf.cast(data['image'],dtype=tf.float32)/255.0\n",
    "    label = data['label']\n",
    "    return image,label\n",
    "    \n",
    "BATCH_SIZE = 128\n",
    "train_data = train_datasets.map(preprocessing).shuffle(1000).batch(BATCH_SIZE)\n",
    "valid_data = valid_datasets.map(preprocessing).batch(BATCH_SIZE)"
   ]
  },
  {
   "cell_type": "code",
   "execution_count": 6,
   "metadata": {},
   "outputs": [
    {
     "name": "stdout",
     "output_type": "stream",
     "text": [
      "(128, 32, 32, 3)\n",
      "(128,)\n"
     ]
    }
   ],
   "source": [
    "#데이터 확인하기\n",
    "for image,label in train_data.take(1):\n",
    "    print(image.shape)\n",
    "    print(label.shape)"
   ]
  }
 ],
 "metadata": {
  "kernelspec": {
   "display_name": "Python 3",
   "language": "python",
   "name": "python3"
  },
  "language_info": {
   "codemirror_mode": {
    "name": "ipython",
    "version": 3
   },
   "file_extension": ".py",
   "mimetype": "text/x-python",
   "name": "python",
   "nbconvert_exporter": "python",
   "pygments_lexer": "ipython3",
   "version": "3.8.0"
  }
 },
 "nbformat": 4,
 "nbformat_minor": 4
}
