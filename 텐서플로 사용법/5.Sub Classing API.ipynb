{
 "cells": [
  {
   "cell_type": "code",
   "execution_count": 13,
   "id": "99d37698",
   "metadata": {},
   "outputs": [],
   "source": [
    "#모듈 임포트\n",
    "import tensorflow as tf\n",
    "import numpy as np"
   ]
  },
  {
   "cell_type": "markdown",
   "id": "1fe866ef",
   "metadata": {},
   "source": [
    "## 데이터 로드,전처리(mnist)"
   ]
  },
  {
   "cell_type": "code",
   "execution_count": 14,
   "id": "080ea268",
   "metadata": {},
   "outputs": [],
   "source": [
    "(x_train,y_train),(x_valid,y_valid) = tf.keras.datasets.mnist.load_data()\n",
    "\n",
    "x_train = x_train[...,tf.newaxis]/255.0\n",
    "x_valid = x_valid[...,tf.newaxis]/255.0"
   ]
  },
  {
   "cell_type": "code",
   "execution_count": 15,
   "id": "78a6d817",
   "metadata": {},
   "outputs": [
    {
     "name": "stdout",
     "output_type": "stream",
     "text": [
      "x_train.shape: (60000, 28, 28, 1), y_train.shape: (60000,), x_valid.shape: (10000, 28, 28, 1), y_valid: (10000,)\n",
      "x_train.min: 0.0, x_train.max: 1.0, x_valid.min: 0.0, x_valid.max: 1.0\n"
     ]
    }
   ],
   "source": [
    "#데이터 확인\n",
    "print(f'x_train.shape: {x_train.shape}, y_train.shape: {y_train.shape}, x_valid.shape: {x_valid.shape}, y_valid: {y_valid.shape}')\n",
    "print(f'x_train.min: {np.min(x_train)}, x_train.max: {np.max(x_train)}, x_valid.min: {np.min(np.min(x_valid))}, x_valid.max: {np.min(np.max(x_valid))}')"
   ]
  },
  {
   "cell_type": "markdown",
   "id": "cab2dc3e",
   "metadata": {},
   "source": [
    "## Sub Classsing API로 모델링"
   ]
  },
  {
   "cell_type": "code",
   "execution_count": 23,
   "id": "66e93899",
   "metadata": {},
   "outputs": [],
   "source": [
    "#모델링\n",
    "class MyModel(tf.keras.models.Model):\n",
    "    def __init__(self):\n",
    "        super(MyModel,self).__init__()\n",
    "        self.cnn1 = tf.keras.layers.Conv2D(32,(3,3),padding='same',activation='relu')\n",
    "        self.maxpool1 = tf.keras.layers.MaxPool2D(2,2)\n",
    "        self.cnn2 = tf.keras.layers.Conv2D(64,(3,3),padding='same',activation='relu')\n",
    "        self.maxpool2 = tf.keras.layers.MaxPool2D(2,2)\n",
    "        self.cnn3 = tf.keras.layers.Conv2D(64,(3,3),padding='same',activation='relu')\n",
    "        self.flatten = tf.keras.layers.Flatten()\n",
    "        self.Dense1 = tf.keras.layers.Dense(32,activation='relu')\n",
    "        self.output_ = tf.keras.layers.Dense(10,activation='softmax')\n",
    "    \n",
    "    def call(self,input_):\n",
    "        x = self.cnn1(input_)\n",
    "        x = self.maxpool1(x)\n",
    "        x = self.cnn2(x)\n",
    "        x = self.maxpool2(x)\n",
    "        x = self.cnn3(x)\n",
    "        x = self.flatten(x)\n",
    "        x = self.Dense1(x)\n",
    "        x = self.output_(x)\n",
    "        return x"
   ]
  },
  {
   "cell_type": "code",
   "execution_count": 29,
   "id": "74a4898f",
   "metadata": {},
   "outputs": [
    {
     "data": {
      "text/plain": [
       "<KerasTensor: shape=(None, 10) dtype=float32 (created by layer 'my_model_5')>"
      ]
     },
     "execution_count": 29,
     "metadata": {},
     "output_type": "execute_result"
    }
   ],
   "source": [
    "# 모델 선언\n",
    "model = MyModel()\n",
    "\n",
    "input_ = tf.keras.layers.Input(shape = (28,28,1))\n",
    "model(input_)"
   ]
  },
  {
   "cell_type": "code",
   "execution_count": 30,
   "id": "6929b1ed",
   "metadata": {},
   "outputs": [
    {
     "name": "stdout",
     "output_type": "stream",
     "text": [
      "Model: \"my_model_5\"\n",
      "_________________________________________________________________\n",
      "Layer (type)                 Output Shape              Param #   \n",
      "=================================================================\n",
      "conv2d_15 (Conv2D)           multiple                  320       \n",
      "_________________________________________________________________\n",
      "max_pooling2d_10 (MaxPooling multiple                  0         \n",
      "_________________________________________________________________\n",
      "conv2d_16 (Conv2D)           multiple                  18496     \n",
      "_________________________________________________________________\n",
      "max_pooling2d_11 (MaxPooling multiple                  0         \n",
      "_________________________________________________________________\n",
      "conv2d_17 (Conv2D)           multiple                  36928     \n",
      "_________________________________________________________________\n",
      "flatten_5 (Flatten)          multiple                  0         \n",
      "_________________________________________________________________\n",
      "dense_10 (Dense)             multiple                  100384    \n",
      "_________________________________________________________________\n",
      "dense_11 (Dense)             multiple                  330       \n",
      "=================================================================\n",
      "Total params: 156,458\n",
      "Trainable params: 156,458\n",
      "Non-trainable params: 0\n",
      "_________________________________________________________________\n"
     ]
    }
   ],
   "source": [
    "#model summary\n",
    "model.summary()"
   ]
  },
  {
   "cell_type": "code",
   "execution_count": 34,
   "id": "6f60816c",
   "metadata": {},
   "outputs": [],
   "source": [
    "#model compile\n",
    "model.compile(optimizer = 'adam', loss = 'sparse_categorical_crossentropy',metrics = ['acc'])"
   ]
  },
  {
   "cell_type": "code",
   "execution_count": 35,
   "id": "7e5ff6df",
   "metadata": {},
   "outputs": [
    {
     "name": "stdout",
     "output_type": "stream",
     "text": [
      "Epoch 1/10\n",
      "1875/1875 [==============================] - 24s 12ms/step - loss: 0.2904 - acc: 0.9095 - val_loss: 0.0379 - val_acc: 0.9878\n",
      "Epoch 2/10\n",
      "1875/1875 [==============================] - 25s 13ms/step - loss: 0.0419 - acc: 0.9866 - val_loss: 0.0406 - val_acc: 0.9860\n",
      "Epoch 3/10\n",
      "1875/1875 [==============================] - 25s 13ms/step - loss: 0.0311 - acc: 0.9902 - val_loss: 0.0309 - val_acc: 0.9895\n",
      "Epoch 4/10\n",
      "1875/1875 [==============================] - 23s 12ms/step - loss: 0.0218 - acc: 0.9926 - val_loss: 0.0248 - val_acc: 0.9918\n",
      "Epoch 5/10\n",
      "1875/1875 [==============================] - 23s 12ms/step - loss: 0.0174 - acc: 0.9945 - val_loss: 0.0342 - val_acc: 0.9901\n",
      "Epoch 6/10\n",
      "1875/1875 [==============================] - 24s 13ms/step - loss: 0.0128 - acc: 0.9958 - val_loss: 0.0285 - val_acc: 0.9924\n",
      "Epoch 7/10\n",
      "1875/1875 [==============================] - 23s 12ms/step - loss: 0.0097 - acc: 0.9971 - val_loss: 0.0323 - val_acc: 0.9899\n",
      "Epoch 8/10\n",
      "1875/1875 [==============================] - 23s 12ms/step - loss: 0.0091 - acc: 0.9970 - val_loss: 0.0289 - val_acc: 0.9913\n",
      "Epoch 9/10\n",
      "1875/1875 [==============================] - 24s 13ms/step - loss: 0.0092 - acc: 0.9969 - val_loss: 0.0300 - val_acc: 0.9922\n",
      "Epoch 10/10\n",
      "1875/1875 [==============================] - 24s 13ms/step - loss: 0.0072 - acc: 0.9978 - val_loss: 0.0344 - val_acc: 0.9909\n"
     ]
    },
    {
     "data": {
      "text/plain": [
       "<tensorflow.python.keras.callbacks.History at 0x1d13d715a90>"
      ]
     },
     "execution_count": 35,
     "metadata": {},
     "output_type": "execute_result"
    }
   ],
   "source": [
    "model.fit(x_train,y_train,\n",
    "         validation_data = (x_valid,y_valid),\n",
    "         epochs = 10\n",
    "         )"
   ]
  }
 ],
 "metadata": {
  "kernelspec": {
   "display_name": "Python 3",
   "language": "python",
   "name": "python3"
  },
  "language_info": {
   "codemirror_mode": {
    "name": "ipython",
    "version": 3
   },
   "file_extension": ".py",
   "mimetype": "text/x-python",
   "name": "python",
   "nbconvert_exporter": "python",
   "pygments_lexer": "ipython3",
   "version": "3.8.0"
  }
 },
 "nbformat": 4,
 "nbformat_minor": 5
}
