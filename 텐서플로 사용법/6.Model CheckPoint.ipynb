{
 "cells": [
  {
   "cell_type": "code",
   "execution_count": 1,
   "id": "2f9a8d16",
   "metadata": {},
   "outputs": [],
   "source": [
    "#모듈 임포트\n",
    "import tensorflow as tf"
   ]
  },
  {
   "cell_type": "markdown",
   "id": "0bab1788",
   "metadata": {},
   "source": [
    "## 데이터 로드,전처리"
   ]
  },
  {
   "cell_type": "code",
   "execution_count": 2,
   "id": "4492cd82",
   "metadata": {},
   "outputs": [],
   "source": [
    "(x_train,y_train),(x_valid,y_valid) = tf.keras.datasets.mnist.load_data()\n",
    "\n",
    "x_train = x_train[...,tf.newaxis]/255.0\n",
    "x_valid = x_valid[...,tf.newaxis]/255.0\n",
    "\n",
    "train_data = tf.data.Dataset.from_tensor_slices((x_train,y_train)).shuffle(1000).batch(128)\n",
    "valid_data = tf.data.Dataset.from_tensor_slices((x_valid,y_valid)).batch(128)"
   ]
  },
  {
   "cell_type": "markdown",
   "id": "913d2d7f",
   "metadata": {},
   "source": [
    "## 모델링"
   ]
  },
  {
   "cell_type": "code",
   "execution_count": 3,
   "id": "9a1989eb",
   "metadata": {},
   "outputs": [],
   "source": [
    "class MyModel(tf.keras.models.Model):\n",
    "    def __init__(self):\n",
    "        super(MyModel,self).__init__()\n",
    "        self.cnn1 = tf.keras.layers.Conv2D(32,(3,3),padding='same',activation='relu')\n",
    "        self.maxpool1 = tf.keras.layers.MaxPool2D(2,2)\n",
    "        self.cnn2 = tf.keras.layers.Conv2D(64,(3,3),padding='same',activation='relu')\n",
    "        self.maxpool2 = tf.keras.layers.MaxPool2D(2,2)\n",
    "        self.cnn3 = tf.keras.layers.Conv2D(64,(3,3),padding='same',activation='relu')\n",
    "        self.flatten = tf.keras.layers.Flatten()\n",
    "        self.Dense1 = tf.keras.layers.Dense(32,activation='relu')\n",
    "        self.output_ = tf.keras.layers.Dense(10,activation='softmax')\n",
    "    \n",
    "    def call(self,input_):\n",
    "        x = self.cnn1(input_)\n",
    "        x = self.maxpool1(x)\n",
    "        x = self.cnn2(x)\n",
    "        x = self.maxpool2(x)\n",
    "        x = self.cnn3(x)\n",
    "        x = self.flatten(x)\n",
    "        x = self.Dense1(x)\n",
    "        x = self.output_(x)\n",
    "        return x"
   ]
  },
  {
   "cell_type": "code",
   "execution_count": 4,
   "id": "8bca8454",
   "metadata": {},
   "outputs": [
    {
     "name": "stdout",
     "output_type": "stream",
     "text": [
      "Model: \"my_model\"\n",
      "_________________________________________________________________\n",
      "Layer (type)                 Output Shape              Param #   \n",
      "=================================================================\n",
      "conv2d (Conv2D)              multiple                  320       \n",
      "_________________________________________________________________\n",
      "max_pooling2d (MaxPooling2D) multiple                  0         \n",
      "_________________________________________________________________\n",
      "conv2d_1 (Conv2D)            multiple                  18496     \n",
      "_________________________________________________________________\n",
      "max_pooling2d_1 (MaxPooling2 multiple                  0         \n",
      "_________________________________________________________________\n",
      "conv2d_2 (Conv2D)            multiple                  36928     \n",
      "_________________________________________________________________\n",
      "flatten (Flatten)            multiple                  0         \n",
      "_________________________________________________________________\n",
      "dense (Dense)                multiple                  100384    \n",
      "_________________________________________________________________\n",
      "dense_1 (Dense)              multiple                  330       \n",
      "=================================================================\n",
      "Total params: 156,458\n",
      "Trainable params: 156,458\n",
      "Non-trainable params: 0\n",
      "_________________________________________________________________\n"
     ]
    }
   ],
   "source": [
    "model = MyModel()\n",
    "\n",
    "input_ = tf.keras.layers.Input(shape = (28,28,1))\n",
    "model(input_)\n",
    "\n",
    "model.summary()"
   ]
  },
  {
   "cell_type": "markdown",
   "id": "da729c2d",
   "metadata": {},
   "source": [
    "## CheckPoint"
   ]
  },
  {
   "cell_type": "code",
   "execution_count": 5,
   "id": "48d2cb87",
   "metadata": {},
   "outputs": [],
   "source": [
    "checkpoint_path = 'my_checkpoint.ckpt'\n",
    "checkpoint = tf.keras.callbacks.ModelCheckpoint(filepath=checkpoint_path,\n",
    "                                                save_weights_only=True, # 가중치만 저장\n",
    "                                                save_best_only=True,    # 기준값이 개선 되었을때만 저장\n",
    "                                                monitor='val_loss',     # 기준값: val_loss\n",
    "                                                verbose=1)"
   ]
  },
  {
   "cell_type": "markdown",
   "id": "d5975bab",
   "metadata": {},
   "source": [
    "## 컴파일,학습"
   ]
  },
  {
   "cell_type": "code",
   "execution_count": 6,
   "id": "a5294ad5",
   "metadata": {},
   "outputs": [],
   "source": [
    "model.compile(optimizer = 'adam', loss = 'sparse_categorical_crossentropy',metrics = ['acc'])"
   ]
  },
  {
   "cell_type": "code",
   "execution_count": 7,
   "id": "d730431d",
   "metadata": {},
   "outputs": [
    {
     "name": "stdout",
     "output_type": "stream",
     "text": [
      "Epoch 1/10\n",
      "469/469 [==============================] - 23s 48ms/step - loss: 0.5278 - acc: 0.8407 - val_loss: 0.0693 - val_acc: 0.9764\n",
      "\n",
      "Epoch 00001: val_loss improved from inf to 0.06935, saving model to my_checkpoint.ckpt\n",
      "Epoch 2/10\n",
      "469/469 [==============================] - 23s 49ms/step - loss: 0.0644 - acc: 0.9811 - val_loss: 0.0472 - val_acc: 0.9845\n",
      "\n",
      "Epoch 00002: val_loss improved from 0.06935 to 0.04723, saving model to my_checkpoint.ckpt\n",
      "Epoch 3/10\n",
      "469/469 [==============================] - 23s 48ms/step - loss: 0.0430 - acc: 0.9869 - val_loss: 0.0348 - val_acc: 0.9877\n",
      "\n",
      "Epoch 00003: val_loss improved from 0.04723 to 0.03481, saving model to my_checkpoint.ckpt\n",
      "Epoch 4/10\n",
      "469/469 [==============================] - 21s 44ms/step - loss: 0.0326 - acc: 0.9900 - val_loss: 0.0370 - val_acc: 0.9870\n",
      "\n",
      "Epoch 00004: val_loss did not improve from 0.03481\n",
      "Epoch 5/10\n",
      "469/469 [==============================] - 22s 47ms/step - loss: 0.0266 - acc: 0.9919 - val_loss: 0.0298 - val_acc: 0.9907\n",
      "\n",
      "Epoch 00005: val_loss improved from 0.03481 to 0.02976, saving model to my_checkpoint.ckpt\n",
      "Epoch 6/10\n",
      "469/469 [==============================] - 20s 44ms/step - loss: 0.0227 - acc: 0.9925 - val_loss: 0.0300 - val_acc: 0.9899\n",
      "\n",
      "Epoch 00006: val_loss did not improve from 0.02976\n",
      "Epoch 7/10\n",
      "469/469 [==============================] - 22s 47ms/step - loss: 0.0167 - acc: 0.9944 - val_loss: 0.0306 - val_acc: 0.9901\n",
      "\n",
      "Epoch 00007: val_loss did not improve from 0.02976\n",
      "Epoch 8/10\n",
      "469/469 [==============================] - 22s 46ms/step - loss: 0.0143 - acc: 0.9947 - val_loss: 0.0439 - val_acc: 0.9874\n",
      "\n",
      "Epoch 00008: val_loss did not improve from 0.02976\n",
      "Epoch 9/10\n",
      "469/469 [==============================] - 21s 45ms/step - loss: 0.0130 - acc: 0.9960 - val_loss: 0.0379 - val_acc: 0.9894\n",
      "\n",
      "Epoch 00009: val_loss did not improve from 0.02976\n",
      "Epoch 10/10\n",
      "469/469 [==============================] - 21s 46ms/step - loss: 0.0093 - acc: 0.9972 - val_loss: 0.0405 - val_acc: 0.9889\n",
      "\n",
      "Epoch 00010: val_loss did not improve from 0.02976\n"
     ]
    },
    {
     "data": {
      "text/plain": [
       "<tensorflow.python.keras.callbacks.History at 0x1b2e0eb94f0>"
      ]
     },
     "execution_count": 7,
     "metadata": {},
     "output_type": "execute_result"
    }
   ],
   "source": [
    "model.fit(train_data,\n",
    "         validation_data = (valid_data),\n",
    "         epochs = 10,\n",
    "          callbacks=[checkpoint]\n",
    "         )"
   ]
  },
  {
   "cell_type": "markdown",
   "id": "87cd332c",
   "metadata": {},
   "source": [
    "## 가중치 적용"
   ]
  },
  {
   "cell_type": "code",
   "execution_count": 8,
   "id": "ebece666",
   "metadata": {},
   "outputs": [
    {
     "data": {
      "text/plain": [
       "<tensorflow.python.training.tracking.util.CheckpointLoadStatus at 0x1b2e0eb9550>"
      ]
     },
     "execution_count": 8,
     "metadata": {},
     "output_type": "execute_result"
    }
   ],
   "source": [
    "model.load_weights(checkpoint_path)"
   ]
  }
 ],
 "metadata": {
  "kernelspec": {
   "display_name": "Python 3",
   "language": "python",
   "name": "python3"
  },
  "language_info": {
   "codemirror_mode": {
    "name": "ipython",
    "version": 3
   },
   "file_extension": ".py",
   "mimetype": "text/x-python",
   "name": "python",
   "nbconvert_exporter": "python",
   "pygments_lexer": "ipython3",
   "version": "3.8.0"
  }
 },
 "nbformat": 4,
 "nbformat_minor": 5
}
