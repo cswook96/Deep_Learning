{
 "cells": [
  {
   "cell_type": "code",
   "execution_count": 1,
   "id": "f276dc2d",
   "metadata": {},
   "outputs": [],
   "source": [
    "import numpy as np\n",
    "import tensorflow as tf\n",
    "\n",
    "import pydicom\n",
    "from pydicom.pixel_data_handlers import apply_voi_lut\n",
    "\n",
    "import os\n",
    "\n",
    "from glob import glob"
   ]
  },
  {
   "cell_type": "code",
   "execution_count": 2,
   "id": "dd9ef650",
   "metadata": {},
   "outputs": [],
   "source": [
    "def create_dicom_image(file):\n",
    "    ds = pydicom.dcmread(filename)\n",
    "    image = apply_voi_lut(ds.pixel_array, ds)\n",
    "    image = image[..., np.newaxis]\n",
    "    return image"
   ]
  },
  {
   "cell_type": "code",
   "execution_count": 4,
   "id": "fc1c099f",
   "metadata": {},
   "outputs": [
    {
     "data": {
      "text/plain": [
       "['./dicom_image\\\\Image-1.dcm',\n",
       " './dicom_image\\\\Image-105.dcm',\n",
       " './dicom_image\\\\Image-108.dcm',\n",
       " './dicom_image\\\\Image-11.dcm',\n",
       " './dicom_image\\\\Image-111.dcm',\n",
       " './dicom_image\\\\Image-117.dcm',\n",
       " './dicom_image\\\\Image-12.dcm',\n",
       " './dicom_image\\\\Image-120.dcm',\n",
       " './dicom_image\\\\Image-122.dcm',\n",
       " './dicom_image\\\\Image-15.dcm']"
      ]
     },
     "execution_count": 4,
     "metadata": {},
     "output_type": "execute_result"
    }
   ],
   "source": [
    "files = glob('./dicom_image/*.dcm')\n",
    "files"
   ]
  },
  {
   "cell_type": "code",
   "execution_count": 19,
   "id": "50928487",
   "metadata": {},
   "outputs": [
    {
     "data": {
      "text/plain": [
       "(10, 512, 512, 1)"
      ]
     },
     "execution_count": 19,
     "metadata": {},
     "output_type": "execute_result"
    }
   ],
   "source": [
    "images = np.stack(map(create_dicom_image, files), axis=0)\n",
    "images.shape"
   ]
  }
 ],
 "metadata": {
  "kernelspec": {
   "display_name": "Python 3 (ipykernel)",
   "language": "python",
   "name": "python3"
  },
  "language_info": {
   "codemirror_mode": {
    "name": "ipython",
    "version": 3
   },
   "file_extension": ".py",
   "mimetype": "text/x-python",
   "name": "python",
   "nbconvert_exporter": "python",
   "pygments_lexer": "ipython3",
   "version": "3.7.6"
  }
 },
 "nbformat": 4,
 "nbformat_minor": 5
}
