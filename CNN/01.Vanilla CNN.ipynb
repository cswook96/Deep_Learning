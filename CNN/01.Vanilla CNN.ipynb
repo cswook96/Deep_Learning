{
  "nbformat": 4,
  "nbformat_minor": 0,
  "metadata": {
    "colab": {
      "name": "1.Vanilla CNN.ipynb",
      "provenance": []
    },
    "kernelspec": {
      "name": "python3",
      "display_name": "Python 3"
    },
    "language_info": {
      "name": "python"
    },
    "accelerator": "GPU"
  },
  "cells": [
    {
      "cell_type": "code",
      "metadata": {
        "id": "y_vrM-16qs9a"
      },
      "source": [
        "# 모듈 임포트\n",
        "import tensorflow as tf\n",
        "import numpy as np"
      ],
      "execution_count": 1,
      "outputs": []
    },
    {
      "cell_type": "markdown",
      "metadata": {
        "id": "BduvbabCq0Wd"
      },
      "source": [
        "## 데이터셋 준비"
      ]
    },
    {
      "cell_type": "code",
      "metadata": {
        "id": "ru5LBV3trsEz"
      },
      "source": [
        "(x_train,y_train),(x_valid,y_valid) = tf.keras.datasets.mnist.load_data()\n",
        "\n",
        "x_train = x_train[...,tf.newaxis].astype(np.float32)/255.0\n",
        "x_valid = x_valid[...,tf.newaxis].astype(np.float32)/255.0\n",
        "\n",
        "train_data = tf.data.Dataset.from_tensor_slices((x_train,y_train)).shuffle(1000).batch(128)\n",
        "valid_data = tf.data.Dataset.from_tensor_slices((x_valid,y_valid)).batch(32)"
      ],
      "execution_count": 2,
      "outputs": []
    },
    {
      "cell_type": "markdown",
      "metadata": {
        "id": "xpGDZaOpuq5D"
      },
      "source": [
        "## Vanilla CNN 모델링"
      ]
    },
    {
      "cell_type": "code",
      "metadata": {
        "id": "BFNQL6gkvkc3"
      },
      "source": [
        "class ConvNet(tf.keras.models.Model):\n",
        "    def __init__(self):\n",
        "        super(ConvNet,self).__init__()\n",
        "        self.cnn1 = tf.keras.layers.Conv2D(16,(3,3),padding='same',activation='relu')\n",
        "        self.cnn2 = tf.keras.layers.Conv2D(16,(3,3),padding='same',activation='relu')\n",
        "        self.maxpool1 = tf.keras.layers.MaxPool2D(2,2)\n",
        "        self.cnn3 = tf.keras.layers.Conv2D(32,(3,3),padding='same',activation='relu')\n",
        "        self.cnn4 = tf.keras.layers.Conv2D(32,(3,3),padding='same',activation='relu')\n",
        "        self.maxpool2 = tf.keras.layers.MaxPool2D(2,2)\n",
        "        self.cnn5 = tf.keras.layers.Conv2D(32,(3,3),padding='same',activation='relu')\n",
        "        self.cnn6 = tf.keras.layers.Conv2D(32,(3,3),padding='same',activation='relu')\n",
        "        self.flatten = tf.keras.layers.Flatten()\n",
        "        self.Dense = tf.keras.layers.Dense(128,activation='relu')\n",
        "        self.output_ = tf.keras.layers.Dense(10,activation='softmax')\n",
        "\n",
        "    def call(self,input_):\n",
        "        x = self.cnn1(input_)\n",
        "        x = self.cnn2(x)\n",
        "        x = self.maxpool1(x)\n",
        "        x = self.cnn3(x)\n",
        "        x = self.cnn4(x)\n",
        "        x = self.maxpool2(x)\n",
        "        x = self.cnn5(x)\n",
        "        x = self.cnn6(x)\n",
        "        x = self.flatten(x)\n",
        "        x = self.Dense(x)\n",
        "        x = self.output_(x)\n",
        "        return x\n"
      ],
      "execution_count": 3,
      "outputs": []
    },
    {
      "cell_type": "code",
      "metadata": {
        "colab": {
          "base_uri": "https://localhost:8080/"
        },
        "id": "04HNUWl2yONY",
        "outputId": "c2d92296-3ee0-4339-a964-0fa214bdfd59"
      },
      "source": [
        "model = ConvNet()\n",
        "input_ = tf.keras.layers.Input(shape=(28,28,1))\n",
        "model(input_)\n",
        "\n",
        "model.summary()"
      ],
      "execution_count": 4,
      "outputs": [
        {
          "output_type": "stream",
          "text": [
            "Model: \"conv_net\"\n",
            "_________________________________________________________________\n",
            "Layer (type)                 Output Shape              Param #   \n",
            "=================================================================\n",
            "conv2d (Conv2D)              multiple                  160       \n",
            "_________________________________________________________________\n",
            "conv2d_1 (Conv2D)            multiple                  2320      \n",
            "_________________________________________________________________\n",
            "max_pooling2d (MaxPooling2D) multiple                  0         \n",
            "_________________________________________________________________\n",
            "conv2d_2 (Conv2D)            multiple                  4640      \n",
            "_________________________________________________________________\n",
            "conv2d_3 (Conv2D)            multiple                  9248      \n",
            "_________________________________________________________________\n",
            "max_pooling2d_1 (MaxPooling2 multiple                  0         \n",
            "_________________________________________________________________\n",
            "conv2d_4 (Conv2D)            multiple                  9248      \n",
            "_________________________________________________________________\n",
            "conv2d_5 (Conv2D)            multiple                  9248      \n",
            "_________________________________________________________________\n",
            "flatten (Flatten)            multiple                  0         \n",
            "_________________________________________________________________\n",
            "dense (Dense)                multiple                  200832    \n",
            "_________________________________________________________________\n",
            "dense_1 (Dense)              multiple                  1290      \n",
            "=================================================================\n",
            "Total params: 236,986\n",
            "Trainable params: 236,986\n",
            "Non-trainable params: 0\n",
            "_________________________________________________________________\n"
          ],
          "name": "stdout"
        }
      ]
    },
    {
      "cell_type": "markdown",
      "metadata": {
        "id": "KFjT6e-Dyy49"
      },
      "source": [
        "## GradientTape 커스텀"
      ]
    },
    {
      "cell_type": "code",
      "metadata": {
        "id": "9LbO6Jzyy-Tk"
      },
      "source": [
        "# loss,optimizer,accuracy 정의 loss,optimizer,accuracy 정의\n",
        "loss_function = tf.keras.losses.SparseCategoricalCrossentropy()\n",
        "optimizer = tf.keras.optimizers.Adam()\n",
        "\n",
        "train_loss = tf.keras.metrics.Mean(name='train_loss')\n",
        "train_acc = tf.keras.metrics.SparseCategoricalAccuracy(name='train_acc')\n",
        "valid_loss = tf.keras.metrics.Mean(name='valid_loss')\n",
        "valid_acc = tf.keras.metrics.SparseCategoricalAccuracy(name='valid_acc')"
      ],
      "execution_count": 5,
      "outputs": []
    },
    {
      "cell_type": "code",
      "metadata": {
        "id": "zu-tTCQP0W7b"
      },
      "source": [
        "# 학습 루프 정의\n",
        "@tf.function\n",
        "def train_step(image,label):\n",
        "    with tf.GradientTape() as tape:\n",
        "        prediction = model(image,training=True)\n",
        "        loss = loss_function(label,prediction)\n",
        "    \n",
        "    gradients = tape.gradient(loss,model.trainable_variables)\n",
        "    optimizer.apply_gradients(zip(gradients,model.trainable_variables))\n",
        "\n",
        "    train_loss(loss)\n",
        "    train_acc(label,prediction)"
      ],
      "execution_count": 6,
      "outputs": []
    },
    {
      "cell_type": "code",
      "metadata": {
        "id": "RwV_C4q01ir8"
      },
      "source": [
        "#검증 루프 정의\n",
        "@tf.function\n",
        "def valid_step(image,label):\n",
        "    prediction = model(image,training=False)\n",
        "    loss = loss_function(label,prediction)\n",
        "\n",
        "    valid_loss(loss)\n",
        "    valid_acc(label,prediction)"
      ],
      "execution_count": 7,
      "outputs": []
    },
    {
      "cell_type": "markdown",
      "metadata": {
        "id": "UF967jhr24g7"
      },
      "source": [
        "## 학습 루프 동작"
      ]
    },
    {
      "cell_type": "code",
      "metadata": {
        "colab": {
          "base_uri": "https://localhost:8080/"
        },
        "id": "IBd90Yn92FdC",
        "outputId": "fd3f1415-fba8-42c6-e505-e2888d28a9ab"
      },
      "source": [
        "EPOCHS = 20\n",
        "\n",
        "train_loss.reset_states()\n",
        "train_acc.reset_states()\n",
        "valid_loss.reset_states()\n",
        "valid_acc.reset_states()\n",
        "\n",
        "for epoch in range(EPOCHS):\n",
        "    \n",
        "    for image,label in train_data:\n",
        "        train_step(image,label)\n",
        "    \n",
        "    for image,label in valid_data:\n",
        "        valid_step(image,label)\n",
        "    \n",
        "    template = 'epoch: {}, loss: {}, acc: {}, val_loss: {}, val_acc: {}'\n",
        "    print(template.format(epoch+1,train_loss.result(),train_acc.result(),valid_loss.result(),valid_acc.result()))"
      ],
      "execution_count": 8,
      "outputs": [
        {
          "output_type": "stream",
          "text": [
            "epoch: 1, loss: 0.20778584480285645, acc: 0.9350000023841858, val_loss: 0.0596526563167572, val_acc: 0.98089998960495\n",
            "epoch: 2, loss: 0.12918813526630402, acc: 0.9595000147819519, val_loss: 0.054524291306734085, val_acc: 0.9828000068664551\n",
            "epoch: 3, loss: 0.09789904952049255, acc: 0.9693111181259155, val_loss: 0.04951520264148712, val_acc: 0.9842333197593689\n",
            "epoch: 4, loss: 0.080332912504673, acc: 0.9747666716575623, val_loss: 0.045701347291469574, val_acc: 0.9856250286102295\n",
            "epoch: 5, loss: 0.06873320043087006, acc: 0.9783700108528137, val_loss: 0.04499353840947151, val_acc: 0.9859399795532227\n",
            "epoch: 6, loss: 0.06035727262496948, acc: 0.9809499979019165, val_loss: 0.042893193662166595, val_acc: 0.9866999983787537\n",
            "epoch: 7, loss: 0.05380138009786606, acc: 0.9829738140106201, val_loss: 0.04241083189845085, val_acc: 0.9871000051498413\n",
            "epoch: 8, loss: 0.04893072322010994, acc: 0.9844833612442017, val_loss: 0.04200979322195053, val_acc: 0.9871500134468079\n",
            "epoch: 9, loss: 0.04467541724443436, acc: 0.9857907295227051, val_loss: 0.0417739599943161, val_acc: 0.987500011920929\n",
            "epoch: 10, loss: 0.04141118377447128, acc: 0.9868199825286865, val_loss: 0.04063752293586731, val_acc: 0.9877899885177612\n",
            "epoch: 11, loss: 0.03857601061463356, acc: 0.9876803159713745, val_loss: 0.04170259088277817, val_acc: 0.9874818325042725\n",
            "epoch: 12, loss: 0.036020755767822266, acc: 0.9884944558143616, val_loss: 0.04084921255707741, val_acc: 0.987891674041748\n",
            "epoch: 13, loss: 0.03385991230607033, acc: 0.9891743659973145, val_loss: 0.041040174663066864, val_acc: 0.9880231022834778\n",
            "epoch: 14, loss: 0.031995661556720734, acc: 0.989770233631134, val_loss: 0.04070337861776352, val_acc: 0.988185703754425\n",
            "epoch: 15, loss: 0.03031414933502674, acc: 0.9903033375740051, val_loss: 0.040596820414066315, val_acc: 0.9883266687393188\n",
            "epoch: 16, loss: 0.02894146554172039, acc: 0.9907354116439819, val_loss: 0.04007074609398842, val_acc: 0.9885249733924866\n",
            "epoch: 17, loss: 0.027593854814767838, acc: 0.9911686182022095, val_loss: 0.03985339775681496, val_acc: 0.9886999726295471\n",
            "epoch: 18, loss: 0.026484454050660133, acc: 0.9915286898612976, val_loss: 0.04056895524263382, val_acc: 0.988694429397583\n",
            "epoch: 19, loss: 0.02536858804523945, acc: 0.9918736815452576, val_loss: 0.04067910835146904, val_acc: 0.9888105392456055\n",
            "epoch: 20, loss: 0.024345282465219498, acc: 0.992193341255188, val_loss: 0.04110757261514664, val_acc: 0.9888849854469299\n"
          ],
          "name": "stdout"
        }
      ]
    }
  ]
}