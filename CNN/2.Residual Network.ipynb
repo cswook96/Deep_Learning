{
  "nbformat": 4,
  "nbformat_minor": 0,
  "metadata": {
    "colab": {
      "name": "2.Residual Network.ipynb",
      "provenance": []
    },
    "kernelspec": {
      "name": "python3",
      "display_name": "Python 3"
    },
    "language_info": {
      "name": "python"
    },
    "accelerator": "GPU"
  },
  "cells": [
    {
      "cell_type": "code",
      "metadata": {
        "id": "ufuEKmMJWq7B"
      },
      "source": [
        "# 모듈 임포트\n",
        "import tensorflow as tf\n",
        "import numpy as np"
      ],
      "execution_count": null,
      "outputs": []
    },
    {
      "cell_type": "markdown",
      "metadata": {
        "id": "K0ShQxxJXx85"
      },
      "source": [
        "## 데이터셋 준비"
      ]
    },
    {
      "cell_type": "code",
      "metadata": {
        "id": "QeqJW7dqdVOh",
        "colab": {
          "base_uri": "https://localhost:8080/"
        },
        "outputId": "375abc63-94a8-4b6b-8a35-9ce3825dfe7d"
      },
      "source": [
        "(x_train,y_train),(x_valid,y_valid) = tf.keras.datasets.mnist.load_data()\n",
        "\n",
        "x_train = tf.cast(x_train[...,tf.newaxis],dtype=tf.float32)/255.0\n",
        "x_valid = tf.cast(x_valid[...,tf.newaxis],dtype=tf.float32)/255.0\n",
        "\n",
        "train_data = tf.data.Dataset.from_tensor_slices((x_train,y_train)).shuffle(1000).batch(128)\n",
        "valid_data = tf.data.Dataset.from_tensor_slices((x_valid,y_valid)).batch(32)"
      ],
      "execution_count": null,
      "outputs": [
        {
          "output_type": "stream",
          "text": [
            "Downloading data from https://storage.googleapis.com/tensorflow/tf-keras-datasets/mnist.npz\n",
            "11493376/11490434 [==============================] - 0s 0us/step\n"
          ],
          "name": "stdout"
        }
      ]
    },
    {
      "cell_type": "markdown",
      "metadata": {
        "id": "JIR7-MryfLiY"
      },
      "source": [
        "## 모델링"
      ]
    },
    {
      "cell_type": "markdown",
      "metadata": {
        "id": "NZLu3uxGghyy"
      },
      "source": [
        "### Residual Unit 구현"
      ]
    },
    {
      "cell_type": "code",
      "metadata": {
        "id": "ZJSfIz_6hcxm"
      },
      "source": [
        "# Pre-Activation 구조\n",
        "class ResidualUnit(tf.keras.models.Model):\n",
        "    def __init__(self, filter_in, filter_out, kernel_size):\n",
        "        super(ResidualUnit, self).__init__()\n",
        "        self.bn1 = tf.keras.layers.BatchNormalization()\n",
        "        self.conv1 = tf.keras.layers.Conv2D(filter_out,kernel_size,padding='same')\n",
        "        \n",
        "        self.bn2 = tf.keras.layers.BatchNormalization()\n",
        "        self.conv2 = tf.keras.layers.Conv2D(filter_out,kernel_size,padding='same')\n",
        "        \n",
        "        if filter_in == filter_out:\n",
        "            self.identity = lambda x:x\n",
        "        else:\n",
        "            self.identity = tf.keras.layers.Conv2D(filter_out,(1,1),padding='same')\n",
        "\n",
        "    def call(self, input_, training=False):\n",
        "        x = self.bn1(input_,training=training)\n",
        "        x = tf.nn.relu(x)\n",
        "        x = self.conv1(x)\n",
        "        \n",
        "        x = self.bn2(x,training=training)\n",
        "        x = tf.nn.relu(x)\n",
        "        x = self.conv2(x)\n",
        "        \n",
        "        return self.identity(input_) + x"
      ],
      "execution_count": null,
      "outputs": []
    },
    {
      "cell_type": "markdown",
      "metadata": {
        "id": "hV1bC82gh4d6"
      },
      "source": [
        "### Residual Layer 구현"
      ]
    },
    {
      "cell_type": "code",
      "metadata": {
        "id": "6qCH7RhriEZm"
      },
      "source": [
        "class ResidualLayer(tf.keras.models.Model):\n",
        "    def __init__(self,filter_in,filters,kernel_size): \n",
        "        super(ResidualLayer,self).__init__()\n",
        "        self.sequence = []\n",
        "        for f_in,f_out in zip([filter_in]+list(filters),filters):\n",
        "            self.sequence.append(ResidualUnit(f_in,f_out,kernel_size))\n",
        "    \n",
        "    def call(self,x,training=False):\n",
        "        for unit in self.sequence:\n",
        "            x = unit(x,training=training)\n",
        "        return x"
      ],
      "execution_count": null,
      "outputs": []
    },
    {
      "cell_type": "markdown",
      "metadata": {
        "id": "T6lcCZVSiFdc"
      },
      "source": [
        "### 모델 정의"
      ]
    },
    {
      "cell_type": "code",
      "metadata": {
        "id": "I4pg8QU_iHYd"
      },
      "source": [
        "class ResNet(tf.keras.models.Model):\n",
        "    def __init__(self):\n",
        "        super(ResNet,self).__init__()\n",
        "        self.conv1 = tf.keras.layers.Conv2D(8,(3,3),padding='same',activation='relu') # 처음에 한번 피쳐를 뽑고 Residual Layer를사용해야 효과적이다.\n",
        "\n",
        "        self.res1 = ResidualLayer(8,(16,16),(3,3))\n",
        "        self.maxpool1 = tf.keras.layers.MaxPool2D(2,2)\n",
        "\n",
        "        self.res2 = ResidualLayer(16,(32,32),(3,3))\n",
        "        self.maxpool2 = tf.keras.layers.MaxPool2D(2,2)\n",
        "\n",
        "        self.res3 = ResidualLayer(32,(64,64),(3,3))\n",
        "\n",
        "        self.flatten = tf.keras.layers.Flatten()\n",
        "        self.dense = tf.keras.layers.Dense(128,activation='relu')\n",
        "        self.output_ = tf.keras.layers.Dense(10,activation='softmax')\n",
        "            \n",
        "\n",
        "    def call(self,input_,training=False):\n",
        "        x = self.conv1(input_)\n",
        "        x = self.res1(x,training=training)\n",
        "        x = self.maxpool1(x)\n",
        "        x = self.res2(x,training=training)\n",
        "        x = self.maxpool2(x)\n",
        "        x = self.res3(x,training=training)\n",
        "        x = self.flatten(x)\n",
        "        x = self.dense(x)\n",
        "        x = self.output_(x)\n",
        "        return x"
      ],
      "execution_count": null,
      "outputs": []
    },
    {
      "cell_type": "code",
      "metadata": {
        "colab": {
          "base_uri": "https://localhost:8080/"
        },
        "id": "Xr57nMkRtOH1",
        "outputId": "4ac6fc20-8701-4401-8814-e9ee96ebfeb6"
      },
      "source": [
        "model = ResNet()\n",
        "input_ = tf.keras.layers.Input(shape=(28,28,1))\n",
        "model(input_)\n",
        "\n",
        "model.summary()"
      ],
      "execution_count": null,
      "outputs": [
        {
          "output_type": "stream",
          "text": [
            "Model: \"res_net\"\n",
            "_________________________________________________________________\n",
            "Layer (type)                 Output Shape              Param #   \n",
            "=================================================================\n",
            "conv2d (Conv2D)              multiple                  80        \n",
            "_________________________________________________________________\n",
            "residual_layer (ResidualLaye multiple                  8496      \n",
            "_________________________________________________________________\n",
            "max_pooling2d (MaxPooling2D) multiple                  0         \n",
            "_________________________________________________________________\n",
            "residual_layer_1 (ResidualLa multiple                  33376     \n",
            "_________________________________________________________________\n",
            "max_pooling2d_1 (MaxPooling2 multiple                  0         \n",
            "_________________________________________________________________\n",
            "residual_layer_2 (ResidualLa multiple                  132288    \n",
            "_________________________________________________________________\n",
            "flatten (Flatten)            multiple                  0         \n",
            "_________________________________________________________________\n",
            "dense (Dense)                multiple                  401536    \n",
            "_________________________________________________________________\n",
            "dense_1 (Dense)              multiple                  1290      \n",
            "=================================================================\n",
            "Total params: 577,066\n",
            "Trainable params: 576,282\n",
            "Non-trainable params: 784\n",
            "_________________________________________________________________\n"
          ],
          "name": "stdout"
        }
      ]
    },
    {
      "cell_type": "markdown",
      "metadata": {
        "id": "qPZPkM2AtlQJ"
      },
      "source": [
        "## 모델 컴파일,학습"
      ]
    },
    {
      "cell_type": "code",
      "metadata": {
        "id": "KxH9zVVQwTHs"
      },
      "source": [
        "model.compile(optimizer='adam',loss='sparse_categorical_crossentropy',metrics = ['acc'])"
      ],
      "execution_count": null,
      "outputs": []
    },
    {
      "cell_type": "code",
      "metadata": {
        "colab": {
          "base_uri": "https://localhost:8080/"
        },
        "id": "-E6t9zFkw1eH",
        "outputId": "e4f04082-dd4e-4786-a32a-d1d913583bf6"
      },
      "source": [
        "model.fit(train_data,\n",
        "          validation_data=(valid_data),\n",
        "          epochs = 20)"
      ],
      "execution_count": null,
      "outputs": [
        {
          "output_type": "stream",
          "text": [
            "Epoch 1/20\n",
            "469/469 [==============================] - 53s 47ms/step - loss: 0.4364 - acc: 0.8933 - val_loss: 0.1459 - val_acc: 0.9544\n",
            "Epoch 2/20\n",
            "469/469 [==============================] - 21s 45ms/step - loss: 0.0508 - acc: 0.9846 - val_loss: 0.0679 - val_acc: 0.9813\n",
            "Epoch 3/20\n",
            "469/469 [==============================] - 21s 45ms/step - loss: 0.0343 - acc: 0.9893 - val_loss: 0.0444 - val_acc: 0.9867\n",
            "Epoch 4/20\n",
            "469/469 [==============================] - 21s 45ms/step - loss: 0.0297 - acc: 0.9909 - val_loss: 0.0681 - val_acc: 0.9833\n",
            "Epoch 5/20\n",
            "469/469 [==============================] - 21s 45ms/step - loss: 0.0311 - acc: 0.9900 - val_loss: 0.0625 - val_acc: 0.9820\n",
            "Epoch 6/20\n",
            "469/469 [==============================] - 21s 45ms/step - loss: 0.0221 - acc: 0.9927 - val_loss: 0.0703 - val_acc: 0.9832\n",
            "Epoch 7/20\n",
            "469/469 [==============================] - 21s 45ms/step - loss: 0.0227 - acc: 0.9932 - val_loss: 0.0475 - val_acc: 0.9882\n",
            "Epoch 8/20\n",
            "469/469 [==============================] - 21s 45ms/step - loss: 0.0157 - acc: 0.9951 - val_loss: 0.0912 - val_acc: 0.9791\n",
            "Epoch 9/20\n",
            "469/469 [==============================] - 21s 45ms/step - loss: 0.0242 - acc: 0.9936 - val_loss: 0.0555 - val_acc: 0.9867\n",
            "Epoch 10/20\n",
            "469/469 [==============================] - 21s 45ms/step - loss: 0.0185 - acc: 0.9944 - val_loss: 0.0377 - val_acc: 0.9904\n",
            "Epoch 11/20\n",
            "469/469 [==============================] - 21s 45ms/step - loss: 0.0149 - acc: 0.9955 - val_loss: 0.0575 - val_acc: 0.9870\n",
            "Epoch 12/20\n",
            "469/469 [==============================] - 21s 45ms/step - loss: 0.0178 - acc: 0.9947 - val_loss: 0.0508 - val_acc: 0.9887\n",
            "Epoch 13/20\n",
            "469/469 [==============================] - 21s 45ms/step - loss: 0.0137 - acc: 0.9955 - val_loss: 0.0555 - val_acc: 0.9877\n",
            "Epoch 14/20\n",
            "469/469 [==============================] - 21s 45ms/step - loss: 0.0125 - acc: 0.9964 - val_loss: 0.0508 - val_acc: 0.9899\n",
            "Epoch 15/20\n",
            "469/469 [==============================] - 21s 45ms/step - loss: 0.0144 - acc: 0.9962 - val_loss: 0.0598 - val_acc: 0.9886\n",
            "Epoch 16/20\n",
            "469/469 [==============================] - 21s 45ms/step - loss: 0.0128 - acc: 0.9965 - val_loss: 0.0459 - val_acc: 0.9890\n",
            "Epoch 17/20\n",
            "469/469 [==============================] - 21s 45ms/step - loss: 0.0104 - acc: 0.9970 - val_loss: 0.0391 - val_acc: 0.9924\n",
            "Epoch 18/20\n",
            "469/469 [==============================] - 21s 46ms/step - loss: 0.0102 - acc: 0.9970 - val_loss: 0.0608 - val_acc: 0.9879\n",
            "Epoch 19/20\n",
            "469/469 [==============================] - 21s 45ms/step - loss: 0.0156 - acc: 0.9957 - val_loss: 0.0457 - val_acc: 0.9908\n",
            "Epoch 20/20\n",
            "469/469 [==============================] - 21s 46ms/step - loss: 0.0102 - acc: 0.9971 - val_loss: 0.0470 - val_acc: 0.9909\n"
          ],
          "name": "stdout"
        },
        {
          "output_type": "execute_result",
          "data": {
            "text/plain": [
              "<tensorflow.python.keras.callbacks.History at 0x7f6b06832b10>"
            ]
          },
          "metadata": {
            "tags": []
          },
          "execution_count": 8
        }
      ]
    }
  ]
}