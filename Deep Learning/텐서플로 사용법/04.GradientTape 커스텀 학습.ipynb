{
 "cells": [
  {
   "cell_type": "code",
   "execution_count": 1,
   "metadata": {},
   "outputs": [],
   "source": [
    "# 모듈 임포트\n",
    "import tensorflow as tf\n",
    "import numpy as np\n",
    "import tensorflow_datasets as tfds"
   ]
  },
  {
   "cell_type": "markdown",
   "metadata": {},
   "source": [
    "## 데이터셋 로드,전처리(cifar 10)"
   ]
  },
  {
   "cell_type": "code",
   "execution_count": 2,
   "metadata": {},
   "outputs": [],
   "source": [
    "train_datasets = tfds.load('cifar10',split='train')\n",
    "valid_datasets = tfds.load('cifar10',split='test')\n",
    "\n",
    "def preprocessing(data):\n",
    "    image = tf.cast(data['image'],dtype=tf.float32)/255.0\n",
    "    label = data['label']\n",
    "    return image,label\n",
    "\n",
    "BATCH_SIZE = 128\n",
    "train_data = train_datasets.map(preprocessing).shuffle(1000).batch(BATCH_SIZE)\n",
    "valid_data = valid_datasets.map(preprocessing).batch(BATCH_SIZE)"
   ]
  },
  {
   "cell_type": "code",
   "execution_count": 3,
   "metadata": {},
   "outputs": [
    {
     "name": "stdout",
     "output_type": "stream",
     "text": [
      "image_min: 0.0, image_max: 1.0\n",
      "image_shape: (32, 32, 3)\n"
     ]
    }
   ],
   "source": [
    "# 데이터 확인\n",
    "for image,label in train_data.take(1):\n",
    "    print(f'image_min: {np.min(image)}, image_max: {np.max(image)}')\n",
    "    print(f'image_shape: {image[0,:,:,:].shape}')"
   ]
  },
  {
   "cell_type": "markdown",
   "metadata": {},
   "source": [
    "## 모델링(Functional API)"
   ]
  },
  {
   "cell_type": "code",
   "execution_count": 4,
   "metadata": {},
   "outputs": [],
   "source": [
    "input_ = tf.keras.layers.Input(shape=((32,32,3)))\n",
    "\n",
    "x = tf.keras.layers.Conv2D(32,(3,3),padding='same',activation='relu')(input_)\n",
    "x = tf.keras.layers.MaxPool2D(2,2)(x)\n",
    "x = tf.keras.layers.Conv2D(64,(3,3),padding='same',activation='relu')(x)\n",
    "x = tf.keras.layers.MaxPool2D(2,2)(x)\n",
    "x = tf.keras.layers.Conv2D(64,(3,3),padding='same',activation='relu')(x)\n",
    "x = tf.keras.layers.Flatten()(x)\n",
    "x = tf.keras.layers.Dense(32,activation='relu')(x)\n",
    "x = tf.keras.layers.Dense(10,activation='softmax')(x)\n",
    "\n",
    "model = tf.keras.models.Model(input_,x)"
   ]
  },
  {
   "cell_type": "code",
   "execution_count": 5,
   "metadata": {},
   "outputs": [
    {
     "name": "stdout",
     "output_type": "stream",
     "text": [
      "Model: \"model\"\n",
      "_________________________________________________________________\n",
      "Layer (type)                 Output Shape              Param #   \n",
      "=================================================================\n",
      "input_1 (InputLayer)         [(None, 32, 32, 3)]       0         \n",
      "_________________________________________________________________\n",
      "conv2d (Conv2D)              (None, 32, 32, 32)        896       \n",
      "_________________________________________________________________\n",
      "max_pooling2d (MaxPooling2D) (None, 16, 16, 32)        0         \n",
      "_________________________________________________________________\n",
      "conv2d_1 (Conv2D)            (None, 16, 16, 64)        18496     \n",
      "_________________________________________________________________\n",
      "max_pooling2d_1 (MaxPooling2 (None, 8, 8, 64)          0         \n",
      "_________________________________________________________________\n",
      "conv2d_2 (Conv2D)            (None, 8, 8, 64)          36928     \n",
      "_________________________________________________________________\n",
      "flatten (Flatten)            (None, 4096)              0         \n",
      "_________________________________________________________________\n",
      "dense (Dense)                (None, 32)                131104    \n",
      "_________________________________________________________________\n",
      "dense_1 (Dense)              (None, 10)                330       \n",
      "=================================================================\n",
      "Total params: 187,754\n",
      "Trainable params: 187,754\n",
      "Non-trainable params: 0\n",
      "_________________________________________________________________\n"
     ]
    }
   ],
   "source": [
    "model.summary()"
   ]
  },
  {
   "cell_type": "markdown",
   "metadata": {},
   "source": [
    "## GradientTape 커스텀 학습"
   ]
  },
  {
   "cell_type": "code",
   "execution_count": 6,
   "metadata": {},
   "outputs": [],
   "source": [
    "#loss function,optimizer 설정\n",
    "loss_function = tf.keras.losses.SparseCategoricalCrossentropy()\n",
    "optimizer = tf.keras.optimizers.Adam()"
   ]
  },
  {
   "cell_type": "code",
   "execution_count": 7,
   "metadata": {},
   "outputs": [],
   "source": [
    "# train_loss,train_acc,valid_loss,valid_acc 설정\n",
    "train_loss = tf.keras.metrics.Mean(name='train_loss')\n",
    "train_acc = tf.keras.metrics.SparseCategoricalAccuracy(name='train_acc')\n",
    "\n",
    "valid_loss = tf.keras.metrics.Mean(name='valid_loss')\n",
    "valid_acc = tf.keras.metrics.SparseCategoricalAccuracy(name='valid_acc')"
   ]
  },
  {
   "cell_type": "code",
   "execution_count": 8,
   "metadata": {},
   "outputs": [],
   "source": [
    "#학습 단계\n",
    "@tf.function\n",
    "def train_step(image,label):\n",
    "    with tf.GradientTape() as tape:\n",
    "        prediction = model(image,training=True)\n",
    "        loss = loss_function(label,prediction)\n",
    "    \n",
    "    gradients = tape.gradient(loss,model.trainable_variables)\n",
    "    optimizer.apply_gradients(zip(gradients,model.trainable_variables))\n",
    "    \n",
    "    train_loss(loss)\n",
    "    train_acc(label,prediction)"
   ]
  },
  {
   "cell_type": "code",
   "execution_count": 9,
   "metadata": {},
   "outputs": [],
   "source": [
    "#검증 단계\n",
    "@tf.function\n",
    "def valid_step(image,label):\n",
    "    prediction = model(image,training=False)\n",
    "    loss = loss_function(label,prediction)\n",
    "    \n",
    "    valid_loss(loss)\n",
    "    valid_acc(label,prediction)"
   ]
  },
  {
   "cell_type": "code",
   "execution_count": 10,
   "metadata": {},
   "outputs": [
    {
     "name": "stdout",
     "output_type": "stream",
     "text": [
      "epoch: 1, loss: 1.6027292013168335, acc: 0.41449999809265137, val_loss: 1.3001593351364136, val_acc: 0.5309000015258789\n",
      "epoch: 2, loss: 1.1894820928573608, acc: 0.5776000022888184, val_loss: 1.0690418481826782, val_acc: 0.6276000142097473\n",
      "epoch: 3, loss: 1.0045056343078613, acc: 0.6476399898529053, val_loss: 0.9490131139755249, val_acc: 0.666700005531311\n",
      "epoch: 4, loss: 0.8914103507995605, acc: 0.6885200142860413, val_loss: 0.9108906984329224, val_acc: 0.6766999959945679\n",
      "epoch: 5, loss: 0.8084282875061035, acc: 0.7186800241470337, val_loss: 0.8765252232551575, val_acc: 0.6951000094413757\n",
      "epoch: 6, loss: 0.7497376203536987, acc: 0.7407799959182739, val_loss: 0.8219699859619141, val_acc: 0.7143999934196472\n",
      "epoch: 7, loss: 0.703594446182251, acc: 0.7564600110054016, val_loss: 0.830111563205719, val_acc: 0.7117999792098999\n",
      "epoch: 8, loss: 0.6625998616218567, acc: 0.7717000246047974, val_loss: 0.8066766262054443, val_acc: 0.7217000126838684\n",
      "epoch: 9, loss: 0.6258422136306763, acc: 0.7823799848556519, val_loss: 0.7963829040527344, val_acc: 0.7263000011444092\n",
      "epoch: 10, loss: 0.580909252166748, acc: 0.7989799976348877, val_loss: 0.7949218153953552, val_acc: 0.7264999747276306\n"
     ]
    }
   ],
   "source": [
    "EPOCHS = 10\n",
    "\n",
    "for epoch in range(EPOCHS):\n",
    "    train_loss.reset_states()\n",
    "    train_acc.reset_states()\n",
    "    valid_loss.reset_states()\n",
    "    valid_acc.reset_states()\n",
    "    \n",
    "    for image,label in train_data:\n",
    "        train_step(image,label)      # 학습\n",
    "        \n",
    "    for image,label in valid_data:\n",
    "        valid_step(image,label)      # 검증\n",
    "        \n",
    "    print(f'epoch: {epoch+1}, loss: {train_loss.result()}, acc: {train_acc.result()}, val_loss: {valid_loss.result()}, val_acc: {valid_acc.result()}')"
   ]
  }
 ],
 "metadata": {
  "kernelspec": {
   "display_name": "Python 3",
   "language": "python",
   "name": "python3"
  },
  "language_info": {
   "codemirror_mode": {
    "name": "ipython",
    "version": 3
   },
   "file_extension": ".py",
   "mimetype": "text/x-python",
   "name": "python",
   "nbconvert_exporter": "python",
   "pygments_lexer": "ipython3",
   "version": "3.8.5"
  }
 },
 "nbformat": 4,
 "nbformat_minor": 5
}
